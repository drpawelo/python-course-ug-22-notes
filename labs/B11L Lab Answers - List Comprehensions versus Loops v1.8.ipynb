{
 "cells": [
  {
   "cell_type": "markdown",
   "metadata": {},
   "source": [
    "# Lab for Badges until 11 - List Comprehensions versus Loops\n",
    "\n",
    "In this lab you will be asked to perform a number of tasks TWICE. First time with list comprehensions, then with loops. Tasks will not be hard, and will build on each other. Hopefully you will see common simmilarities and differences between two above methods."
   ]
  },
  {
   "cell_type": "markdown",
   "metadata": {},
   "source": [
    "### List Comprehension:\n",
    "\n",
    "- takes an original (input) list and returns a different list. It ALWAYS returns a list\n",
    "- can filter the input list, and keep just some items of it, with **if** conditional\n",
    "- can modify/map/represent each items that you mean to keep with the first like\n",
    "- it DOES NOT really 'go through each item in a list one at a time', it changes them all at once, and only the ones that you accepted in the if statement. (that's why you cannot 'do things' inside of it eg. print, assign, or change anything)."
   ]
  },
  {
   "cell_type": "markdown",
   "metadata": {},
   "source": [
    "### Loop:\n",
    "\n",
    "- runs some code, a number of times\n",
    "- in each loop it gives you access to ONE ITEM of a collection, so that you can do something with this item\n",
    "- it does not return anything, you have to take care of returning, collecting or combining things\n",
    "- you can DO things inside it, like assign, change or print.\n",
    "\n",
    "For most applications list comprehension is simpler and faster, but a loop is more flexible and gives you more fine control. If you learn how to solve problems with both methods, you will really advance yoru understanding of what programming is."
   ]
  },
  {
   "cell_type": "markdown",
   "metadata": {},
   "source": [
    "# Recap"
   ]
  },
  {
   "cell_type": "code",
   "execution_count": null,
   "metadata": {},
   "outputs": [],
   "source": [
    "# look at the examples below - do you understand what they do? \n",
    "# can you change them slightly so that they do something else?\n",
    "\n",
    "words = [\"apple\", \"banana\", \"plum\", \"beetroot\",\"kiwi\"]\n",
    "\n",
    "lengths_of_words = [\n",
    "    len(word)\n",
    "    for word in words\n",
    "]\n",
    "\n",
    "print(lengths_of_words)"
   ]
  },
  {
   "cell_type": "code",
   "execution_count": null,
   "metadata": {},
   "outputs": [],
   "source": [
    "lengths_of_words_starting_with_b = [\n",
    "    len(word)\n",
    "    for word in words\n",
    "    if word[0] == \"b\"\n",
    "]\n",
    "\n",
    "print(lengths_of_words_starting_with_b)"
   ]
  },
  {
   "cell_type": "code",
   "execution_count": null,
   "metadata": {},
   "outputs": [],
   "source": [
    "words_starting_with_b = [\n",
    "    word\n",
    "    for word in words\n",
    "    if word[0] == \"b\"\n",
    "]\n",
    "\n",
    "print(words_starting_with_b)"
   ]
  },
  {
   "cell_type": "code",
   "execution_count": null,
   "metadata": {},
   "outputs": [],
   "source": [
    "students = [{'name':'Prianka', 'surname':'Mathews'},\n",
    "           {'name':'Natasha', 'surname':'McColl'}]\n",
    "first_names_of_students = [\n",
    "    student['name']\n",
    "    for student in students\n",
    "]\n",
    "\n",
    "print(first_names_of_students)"
   ]
  },
  {
   "cell_type": "code",
   "execution_count": null,
   "metadata": {},
   "outputs": [],
   "source": [
    "students = [{'name':'Prianka', 'surname':'Mathews', 'pets': ['fish', 'tortoise','cat']},\n",
    "           {'name':'Natasha', 'surname':'McColl', 'pets': ['dog']},\n",
    "           {'name':'Pim', 'surname':'Kowalska', 'pets': ['cat']}]\n",
    "\n",
    "names_of_first_pet_if_they_have_only_one = [\n",
    "    student['pets'][0]\n",
    "    for student in students\n",
    "    if len(student['pets']) == 1\n",
    "]\n",
    "\n",
    "print(names_of_first_pet_if_they_have_only_one)"
   ]
  },
  {
   "cell_type": "markdown",
   "metadata": {},
   "source": [
    "# Tasks: Solve each task first with List Comprehension, then with a For Loop:"
   ]
  },
  {
   "cell_type": "markdown",
   "metadata": {},
   "source": [
    "# Task 1\n",
    "\n",
    "Filter items, then count them to see if there are any:"
   ]
  },
  {
   "cell_type": "markdown",
   "metadata": {},
   "source": [
    "# a: List comprehension"
   ]
  },
  {
   "cell_type": "code",
   "execution_count": null,
   "metadata": {},
   "outputs": [],
   "source": [
    "def is_item_in_list(items, searched_thing):\n",
    "    items_like_the_searched_one = [ \n",
    "        \"sausage\" # CHOOSE MEANINGFUL OUTPUT, like item, or True\n",
    "        for item in items\n",
    "        if item == searched_thing\n",
    "    ]\n",
    "    print (items_like_the_searched_one)\n",
    "                        \n",
    "#     return len(items_like_the_searched_one) > 0\n",
    "    if len(items_like_the_searched_one) > 0:\n",
    "        return True\n",
    "    else:\n",
    "        return False\n",
    "\n",
    "# IF RETURNED LIST HAS ANYTHING IN IT THEN IT MUST BE TRUE\n",
    "# IF LIST EMPTY RETURN == FALSE\n",
    "# BASICALLY MANIPULATE THE OUTPUT OF THE LIST COMP TO MATCH TEST RESULT\n",
    "# E.G. NUMBER, BULLIEN, STRING."
   ]
  },
  {
   "cell_type": "code",
   "execution_count": null,
   "metadata": {},
   "outputs": [],
   "source": [
    "print(is_item_in_list([\"car\",\"dinosaur\",\"doll\"], \"dog\"))"
   ]
  },
  {
   "cell_type": "code",
   "execution_count": null,
   "metadata": {},
   "outputs": [],
   "source": [
    "toys  = [\"car\",\"dinosaur\",\"doll\",\"watering can\",\"flower\", \"car\"]\n",
    "assert is_item_in_list(toys, \"watering can\") == True\n",
    "assert is_item_in_list(toys, \"robot\") == False\n",
    "assert is_item_in_list(toys, \"car\") == True\n",
    "print(\"all tests passed\")"
   ]
  },
  {
   "cell_type": "markdown",
   "metadata": {},
   "source": [
    "# b: For Loop"
   ]
  },
  {
   "cell_type": "code",
   "execution_count": null,
   "metadata": {},
   "outputs": [],
   "source": [
    "def is_item_in_list(items, searched_thing):\n",
    "    for item in items:\n",
    "        if item == searched_thing:\n",
    "            return True\n",
    "    return False\n",
    "\n",
    "# TAKE CHUNK OF LIST COMP AND ADAPT IT TO BE A LOOP \n",
    "# LOOPS RETURN MORE AUTOMATICALLY TRUE OR FALSE"
   ]
  },
  {
   "cell_type": "code",
   "execution_count": null,
   "metadata": {},
   "outputs": [],
   "source": [
    "print(is_item_in_list([\"car\",\"dinosaur\",\"doll\"], \"dinosaur\"))"
   ]
  },
  {
   "cell_type": "code",
   "execution_count": null,
   "metadata": {},
   "outputs": [],
   "source": [
    "toys  = [\"car\",\"dinosaur\",\"doll\",\"watering can\",\"flower\", \"car\"]\n",
    "assert is_item_in_list(toys, \"watering can\") == True\n",
    "assert is_item_in_list(toys, \"robot\") == False\n",
    "assert is_item_in_list(toys, \"car\") == True\n",
    "print(\"all tests passed\")"
   ]
  },
  {
   "cell_type": "markdown",
   "metadata": {},
   "source": [
    "# Task 2\n",
    "\n",
    "Extract data from within a map:"
   ]
  },
  {
   "cell_type": "markdown",
   "metadata": {},
   "source": [
    "# a: List comprehension"
   ]
  },
  {
   "cell_type": "code",
   "execution_count": null,
   "metadata": {},
   "outputs": [],
   "source": [
    "def how_many_pets_of_this_type_person_has(person_info, searched_pet_type):\n",
    "    \n",
    "    # MAKE LIST OF PERSON'S PETS\n",
    "    list_of_pets = person_info['pets']\n",
    "    # OR\n",
    "    list_of_pets = person_info.get('pets',[])\n",
    "    # USE THIS LIST WITHIN LIST COMP\n",
    "    pets_like_searched_one = [\n",
    "        pet \n",
    "        for pet in list_of_pets \n",
    "        if pet == searched_pet_type\n",
    "    ]\n",
    "   # IF OUTPUT LIST HAS ANYTHING IN IT STATEMENT IS TRUE\n",
    "    return len(pets_like_searched_one) "
   ]
  },
  {
   "cell_type": "code",
   "execution_count": null,
   "metadata": {},
   "outputs": [],
   "source": [
    "prianka = {'name':'Prianka', 'surname':'Mathews', 'pets': ['fish', 'tortoise','dog']}\n",
    "print(how_many_pets_of_this_type_person_has(prianka, \"fish\"))"
   ]
  },
  {
   "cell_type": "code",
   "execution_count": null,
   "metadata": {},
   "outputs": [],
   "source": [
    "prianka = {'name':'Prianka', 'surname':'Mathews', 'pets': ['fish', 'tortoise','dog']}\n",
    "natasha = {'name':'Natasha', 'surname':'McColl', 'pets': ['cat','cat']}\n",
    "\n",
    "assert how_many_pets_of_this_type_person_has(prianka, \"fish\") == 1\n",
    "assert how_many_pets_of_this_type_person_has(prianka, \"cat\") == 0\n",
    "\n",
    "assert how_many_pets_of_this_type_person_has(natasha, \"cat\") == 2\n",
    "print(\"all tests passed\")"
   ]
  },
  {
   "cell_type": "markdown",
   "metadata": {},
   "source": [
    "# b: For Loop"
   ]
  },
  {
   "cell_type": "code",
   "execution_count": null,
   "metadata": {},
   "outputs": [],
   "source": [
    "def how_many_pets_of_this_type_person_has(person_info, searched_pet_type):\n",
    "    pet_count = 0\n",
    "    for pet in person_info['pets']: \n",
    "    # OR\n",
    "#     for pet in person_info.get('pets',[]):\n",
    "        if pet == searched_pet_type:\n",
    "            pet_count += 1\n",
    "    return pet_count\n",
    "\n",
    "\n",
    "# or\n",
    "\n",
    "def how_many_pets_of_this_type_person_has(person_info, searched_pet_type):\n",
    "    pets_like_searched_one = []\n",
    "    for pet in person_info['pets']: \n",
    "    # OR\n",
    "#     for pet in person_info.get('pets',[]):\n",
    "        if pet == searched_pet_type:\n",
    "            pets_like_searched_one.append(pet)\n",
    "    return len(pets_like_searched_one)"
   ]
  },
  {
   "cell_type": "code",
   "execution_count": null,
   "metadata": {},
   "outputs": [],
   "source": [
    "prianka = {'name':'Prianka', 'surname':'Mathews', 'pets': ['fish', 'tortoise','dog']}\n",
    "print(how_many_pets_of_this_type_person_has(prianka, \"fish\"))"
   ]
  },
  {
   "cell_type": "code",
   "execution_count": null,
   "metadata": {},
   "outputs": [],
   "source": [
    "prianka = {'name':'Prianka', 'surname':'Mathews', 'pets': ['fish', 'tortoise','dog']}\n",
    "natasha = {'name':'Natasha', 'surname':'McColl', 'pets': ['cat','cat']}\n",
    "\n",
    "assert how_many_pets_of_this_type_person_has(prianka, \"fish\") == 1\n",
    "assert how_many_pets_of_this_type_person_has(prianka, \"cat\") == 0\n",
    "\n",
    "assert how_many_pets_of_this_type_person_has(natasha, \"cat\") == 2\n",
    "print(\"all tests passed\")"
   ]
  },
  {
   "cell_type": "markdown",
   "metadata": {},
   "source": [
    "# Task 3\n",
    "\n",
    "Extract information from a list of maps"
   ]
  },
  {
   "cell_type": "markdown",
   "metadata": {},
   "source": [
    "# a: List comprehension"
   ]
  },
  {
   "cell_type": "code",
   "execution_count": null,
   "metadata": {},
   "outputs": [],
   "source": [
    "def names_of_people_with_any_pets(people):\n",
    "    return [\n",
    "        person['name']\n",
    "        for person in people\n",
    "        if len(person['pets']) > 0\n",
    "    ]\n",
    "\n",
    "# OR SAVE AND RETURN OUTPUT\n",
    "\n",
    "def names_of_people_with_any_pets(people):\n",
    "    people_with_pets = [\n",
    "        person['name']\n",
    "        for person in people\n",
    "        if len(person['pets']) > 0\n",
    "    ]\n",
    "    return people_with_pets"
   ]
  },
  {
   "cell_type": "code",
   "execution_count": null,
   "metadata": {},
   "outputs": [],
   "source": [
    "students = [{'name':'Prianka', 'surname':'Mathews', 'pets': ['fish', 'tortoise','cat']},\n",
    "            {'name':'Natasha', 'surname':'McColl', 'pets': ['dog']},\n",
    "            {'name':'Yola', 'surname':'Gonzales', 'pets': []}]\n",
    "print(names_of_people_with_any_pets(students))"
   ]
  },
  {
   "cell_type": "code",
   "execution_count": null,
   "metadata": {},
   "outputs": [],
   "source": [
    "students = [{'name':'Prianka', 'surname':'Mathews', 'pets': ['fish', 'tortoise','cat']},\n",
    "            {'name':'Natasha', 'surname':'McColl', 'pets': ['dog']},\n",
    "            {'name':'Yola', 'surname':'Gonzales', 'pets': []}]\n",
    "\n",
    "staff =    [{'name':'Mick', 'surname':'Gonzales', 'pets': []},\n",
    "            {'name':'Pim', 'surname':'Kowalska', 'pets': ['cat', 'ferret']}]\n",
    "\n",
    "assert names_of_people_with_any_pets(students) == ['Prianka', 'Natasha']\n",
    "assert names_of_people_with_any_pets(staff) == ['Pim']\n",
    "print(\"all tests passed\")"
   ]
  },
  {
   "cell_type": "markdown",
   "metadata": {},
   "source": [
    "# b: For Loop"
   ]
  },
  {
   "cell_type": "code",
   "execution_count": null,
   "metadata": {},
   "outputs": [],
   "source": [
    "def names_of_people_with_any_pets(people):\n",
    "    # EMPTY ARRAY TO APPEND WITH PETFUL_PEOPLE - CLASSIC LOOP ;)\n",
    "    petful_people = []\n",
    "    for person in people:\n",
    "        # IF PETS LIST HAS SOMETING THERE APPEND THE PERSONS'NAME' TO []\n",
    "        if len(person['pets']) > 0:\n",
    "            petful_people.append(person['name'])\n",
    "    # RETURN THE ARRAY WITH THINGS NOW IN IT \n",
    "    return petful_people"
   ]
  },
  {
   "cell_type": "code",
   "execution_count": null,
   "metadata": {},
   "outputs": [],
   "source": [
    "students = [{'name':'Prianka', 'surname':'Mathews', 'pets': ['fish', 'tortoise','cat']},\n",
    "            {'name':'Natasha', 'surname':'McColl', 'pets': ['dog']},\n",
    "            {'name':'Yola', 'surname':'Gonzales', 'pets': []}]\n",
    "print(names_of_people_with_any_pets(students))"
   ]
  },
  {
   "cell_type": "code",
   "execution_count": null,
   "metadata": {},
   "outputs": [],
   "source": [
    "students = [{'name':'Prianka', 'surname':'Mathews', 'pets': ['fish', 'tortoise','cat']},\n",
    "            {'name':'Natasha', 'surname':'McColl', 'pets': ['dog']},\n",
    "            {'name':'Yola', 'surname':'Gonzales', 'pets': []}]\n",
    "\n",
    "staff =    [{'name':'Mick', 'surname':'Gonzales', 'pets': []},\n",
    "            {'name':'Pim', 'surname':'Kowalska', 'pets': ['cat', 'ferret']}]\n",
    "\n",
    "assert names_of_people_with_any_pets(students) == ['Prianka', 'Natasha']\n",
    "assert names_of_people_with_any_pets(staff) == ['Pim']\n",
    "print(\"all tests passed\")"
   ]
  },
  {
   "cell_type": "markdown",
   "metadata": {},
   "source": [
    "# Task 4\n",
    "\n",
    "Perform operation on list of maps on some info extracted from a map"
   ]
  },
  {
   "cell_type": "markdown",
   "metadata": {},
   "source": [
    "# a: List comprehension"
   ]
  },
  {
   "cell_type": "code",
   "execution_count": null,
   "metadata": {},
   "outputs": [],
   "source": [
    "def number_people_with_same_surname_as(people, person_with_surname):\n",
    "    return len([\n",
    "        person\n",
    "        for person in people\n",
    "        # WE HAVE TO LOOK FOR THE SAME KEY IN EACH DICTIONARY\n",
    "        if person['surname'] == person_with_surname['surname']\n",
    "    ])\n",
    "# CAN ALSO RETURN LEN(OUTPUT)\n",
    "def number_people_with_same_surname_as(people, person_with_surname):\n",
    "    count_same_surnames = [\n",
    "        person\n",
    "        for person in people\n",
    "        # WE HAVE TO LOOK FOR THE SAME KEY IN EACH DICTIONARY\n",
    "        if person['surname'] == person_with_surname['surname']\n",
    "    ]\n",
    "\n",
    "    return len(count_same_surnames)"
   ]
  },
  {
   "cell_type": "code",
   "execution_count": null,
   "metadata": {},
   "outputs": [],
   "source": [
    "students = [{'name':'Prianka', 'surname':'Mathews', 'pets': ['fish', 'tortoise','cat']},\n",
    "            {'name':'Natasha', 'surname':'McColl', 'pets': ['dog']},\n",
    "            {'name':'Yola', 'surname':'Gonzales', 'pets': []},\n",
    "            {'name':'Mick', 'surname':'Gonzales', 'pets': []},]\n",
    "person_of_interest = {'name':'Misha', 'surname':'Gonzales'}\n",
    "\n",
    "print(number_people_with_same_surname_as(students, person_of_interest))"
   ]
  },
  {
   "cell_type": "code",
   "execution_count": null,
   "metadata": {},
   "outputs": [],
   "source": [
    "students = [{'name':'Prianka', 'surname':'Mathews', 'pets': ['fish', 'tortoise','cat']},\n",
    "            {'name':'Natasha', 'surname':'McColl', 'pets': ['dog']},\n",
    "            {'name':'Yola', 'surname':'Gonzales', 'pets': []},\n",
    "            {'name':'Mick', 'surname':'Gonzales', 'pets': []},\n",
    "            {'name':'Pim', 'surname':'Kowalska', 'pets': ['cat', 'ferret']}]\n",
    "\n",
    "person_of_interest = {'name':'Misha', 'surname':'Gonzales', 'pets': []}\n",
    "person_of_interest2 = {'name':'Elena', 'surname':'Kowalska', 'pets': []}\n",
    "person_of_interest3 = {'name':'Jo', 'surname':'Mitchigan', 'pets': []}\n",
    "\n",
    "\n",
    "assert number_people_with_same_surname_as(students, person_of_interest) == 2\n",
    "assert number_people_with_same_surname_as(students, person_of_interest2) == 1\n",
    "assert number_people_with_same_surname_as(students, person_of_interest3) == 0\n",
    "print(\"all tests passed\")"
   ]
  },
  {
   "cell_type": "markdown",
   "metadata": {},
   "source": [
    "# b: For Loop"
   ]
  },
  {
   "cell_type": "code",
   "execution_count": null,
   "metadata": {},
   "outputs": [],
   "source": [
    "def number_people_with_same_surname_as(people, person_with_surname):\n",
    "    # CREATE EMPTY NUMBER TO INCREMENT\n",
    "    people_with_this_surname = 0\n",
    "    for person in people:\n",
    "        # AGAIN SEARCH FOR MATCHING KEY VALUES\n",
    "        if person['surname'] == person_with_surname['surname']:\n",
    "            # INCREMENT PEOPLE COUNT\n",
    "            people_with_this_surname += 1\n",
    "    return people_with_this_surname"
   ]
  },
  {
   "cell_type": "code",
   "execution_count": null,
   "metadata": {},
   "outputs": [],
   "source": [
    "students = [{'name':'Prianka', 'surname':'Mathews', 'pets': ['fish', 'tortoise','cat']},\n",
    "            {'name':'Natasha', 'surname':'McColl', 'pets': ['dog']},\n",
    "            {'name':'Yola', 'surname':'Gonzales', 'pets': []}]\n",
    "person_of_interest = {'name':'Misha', 'surname':'Gonzales'}\n",
    "\n",
    "print(number_people_with_same_surname_as(students, person_of_interest))"
   ]
  },
  {
   "cell_type": "code",
   "execution_count": null,
   "metadata": {},
   "outputs": [],
   "source": [
    "students = [{'name':'Prianka', 'surname':'Mathews', 'pets': ['fish', 'tortoise','cat']},\n",
    "            {'name':'Natasha', 'surname':'McColl', 'pets': ['dog']},\n",
    "            {'name':'Yola', 'surname':'Gonzales', 'pets': []},\n",
    "            {'name':'Mick', 'surname':'Gonzales', 'pets': []},\n",
    "            {'name':'Pim', 'surname':'Kowalska', 'pets': ['cat', 'ferret']}]\n",
    "\n",
    "person_of_interest = {'name':'Misha', 'surname':'Gonzales', 'pets': []}\n",
    "person_of_interest2 = {'name':'Elena', 'surname':'Kowalska', 'pets': []}\n",
    "person_of_interest3 = {'name':'Jo', 'surname':'Mitchigan', 'pets': []}\n",
    "\n",
    "\n",
    "assert number_people_with_same_surname_as(students, person_of_interest) == 2\n",
    "assert number_people_with_same_surname_as(students, person_of_interest2) == 1\n",
    "assert number_people_with_same_surname_as(students, person_of_interest3) == 0\n",
    "print(\"all tests passed\")"
   ]
  },
  {
   "cell_type": "markdown",
   "metadata": {},
   "source": [
    "# Task 5\n",
    "\n",
    "Complex operation on a list of maps, based on a value from a map.\n",
    "\n",
    "Here we will use the idea of a deck of playing cards. Each card has a suit (♠️♣️♥️♦️) and a rank (2,3,4,5... 9,J,Q,K,A). You will be given some cards and asked to do something with them.\n",
    "\n",
    "Each card is described as a Dictionary, so for example Ace of spades is described as `{\"suit\":\"Spade\", \"rank\":\"A\"}`\n"
   ]
  },
  {
   "cell_type": "markdown",
   "metadata": {},
   "source": [
    "# a: List comprehension"
   ]
  },
  {
   "cell_type": "code",
   "execution_count": null,
   "metadata": {},
   "outputs": [],
   "source": [
    "def number_of_cards_of_this_suit(cards, some_suit):\n",
    "    return len([\n",
    "        card\n",
    "        for card in cards \n",
    "        if card['suit'] == some_suit\n",
    "    ])\n",
    "# OR RETURN LEN (OUTPUT)\n",
    "def number_of_cards_of_this_suit(cards, some_suit):\n",
    "    card_count = [ \n",
    "        card\n",
    "        for card in cards \n",
    "        if card['suit'] == some_suit\n",
    "    ]\n",
    "    return len(card_count)\n",
    "# USE LEN() OF OUTPUT TO RETURN A NUMBER"
   ]
  },
  {
   "cell_type": "code",
   "execution_count": null,
   "metadata": {},
   "outputs": [],
   "source": [
    "cards = [{\"suit\":\"Heart\", \"rank\":\"7\"}, \n",
    "         {\"suit\":\"Heart\", \"rank\":\"8\"},\n",
    "         {\"suit\":\"Club\", \"rank\":\"Q\"}]\n",
    "print(number_of_cards_of_this_suit(cards, \"Heart\"))"
   ]
  },
  {
   "cell_type": "code",
   "execution_count": null,
   "metadata": {},
   "outputs": [],
   "source": [
    "h7 = {\"suit\":\"Heart\", \"rank\":\"7\"}\n",
    "h8 = {\"suit\":\"Heart\", \"rank\":\"8\"}\n",
    "cq = {\"suit\":\"Club\", \"rank\":\"Q\"}\n",
    "ca = {\"suit\":\"Club\", \"rank\":\"A\"}\n",
    "c2 = {\"suit\":\"Club\", \"rank\":\"2\"}\n",
    "d7 = {\"suit\":\"Diamond\", \"rank\":\"7\"}\n",
    "\n",
    "some_cards = [h7,h8,cq,ca,c2,d7] # D7 TYPO\n",
    "# notice, we could spell out all the cards again, but this is more DRY\n",
    "\n",
    "assert  number_of_cards_of_this_suit(some_cards, \"Heart\") == 2\n",
    "assert  number_of_cards_of_this_suit(some_cards, \"Diamond\") == 1\n",
    "assert  number_of_cards_of_this_suit(some_cards, \"Spade\") == 0\n",
    "print(\"all tests passed\")"
   ]
  },
  {
   "cell_type": "markdown",
   "metadata": {},
   "source": [
    "# b: For Loop"
   ]
  },
  {
   "cell_type": "code",
   "execution_count": null,
   "metadata": {},
   "outputs": [],
   "source": [
    "def number_of_cards_of_this_suit(cards, some_suit):\n",
    "    card_count = 0\n",
    "    for card in cards:\n",
    "        if card['suit'] == some_suit:\n",
    "            card_count += 1\n",
    "    return card_count\n",
    "# VAR - CARD_COUNT, IS A NUMBER ADDED TO AND WHILST LOOPING\n",
    "# WE RETURN THE TOTAL COUNT"
   ]
  },
  {
   "cell_type": "code",
   "execution_count": null,
   "metadata": {},
   "outputs": [],
   "source": [
    "cards = [{\"suit\":\"Heart\", \"rank\":\"7\"}, \n",
    "         {\"suit\":\"Heart\", \"rank\":\"8\"},\n",
    "         {\"suit\":\"Club\", \"rank\":\"Q\"}]\n",
    "print(number_of_cards_of_this_suit(cards, \"Heart\") == 2)"
   ]
  },
  {
   "cell_type": "code",
   "execution_count": null,
   "metadata": {},
   "outputs": [],
   "source": [
    "h7 = {\"suit\":\"Heart\", \"rank\":\"7\"}\n",
    "h8 = {\"suit\":\"Heart\", \"rank\":\"8\"}\n",
    "cq = {\"suit\":\"Club\", \"rank\":\"Q\"}\n",
    "ca = {\"suit\":\"Club\", \"rank\":\"A\"}\n",
    "c2 = {\"suit\":\"Club\", \"rank\":\"2\"}\n",
    "d7 = {\"suit\":\"Diamond\", \"rank\":\"7\"}\n",
    "\n",
    "some_cards = [h7,h8,cq,ca,c2,d7] # notice, we could spell out all the cards again, but this is more DRY\n",
    "\n",
    "assert  number_of_cards_of_this_suit(some_cards, \"Heart\") == 2\n",
    "assert  number_of_cards_of_this_suit(some_cards, \"Diamond\") == 1\n",
    "assert  number_of_cards_of_this_suit(some_cards, \"Spade\") == 0\n",
    "print(\"all tests passed\")"
   ]
  },
  {
   "cell_type": "markdown",
   "metadata": {},
   "source": [
    "# Task 6\n",
    "\n",
    "Combining everything above. Take a careful look at tests to understand what you need to do."
   ]
  },
  {
   "cell_type": "markdown",
   "metadata": {},
   "source": [
    "# a: List comprehension"
   ]
  },
  {
   "cell_type": "code",
   "execution_count": null,
   "metadata": {},
   "outputs": [],
   "source": [
    "def are_any_cards_same_rank_as_searched_card(cards, searched_card):\n",
    "    return len([\n",
    "        card\n",
    "        for card in cards \n",
    "        if card['rank'] == searched_card['rank']\n",
    "    ]) > 0\n",
    "\n",
    "# OR SAVE IN A VARIABLE AND USE RETURN LEN() > 0 \n",
    "def are_any_cards_same_rank_as_searched_card(cards, searched_card):\n",
    "    same_rank_as_searched_card = [\n",
    "        card\n",
    "        for card in cards \n",
    "        if card['rank'] == searched_card['rank']\n",
    "    ]\n",
    "    return len(same_rank_as_searched_card) > 0\n",
    "\n",
    "# THIS RETURN IS EITHER TRUE OR NOT(FALSE)\n",
    "    "
   ]
  },
  {
   "cell_type": "code",
   "execution_count": null,
   "metadata": {},
   "outputs": [],
   "source": [
    "cards = [{\"suit\":\"Heart\", \"rank\":\"7\"}, \n",
    "         {\"suit\":\"Heart\", \"rank\":\"8\"},\n",
    "         {\"suit\":\"Club\", \"rank\":\"Q\"}]\n",
    "lucky_card = {\"suit\":\"Club\", \"rank\":\"8\"}\n",
    "\n",
    "print(are_any_cards_same_rank_as_searched_card(cards, lucky_card))"
   ]
  },
  {
   "cell_type": "code",
   "execution_count": null,
   "metadata": {},
   "outputs": [],
   "source": [
    "h7 = {\"suit\":\"Heart\", \"rank\":\"7\"}\n",
    "h8 = {\"suit\":\"Heart\", \"rank\":\"8\"}\n",
    "cq = {\"suit\":\"Club\", \"rank\":\"Q\"}\n",
    "ca = {\"suit\":\"Club\", \"rank\":\"A\"}\n",
    "c2 = {\"suit\":\"Club\", \"rank\":\"2\"}\n",
    "d7 = {\"suit\":\"Diamond\", \"rank\":\"7\"}\n",
    "\n",
    "all_cards = [h7,h8,cq,ca,c2,d7] \n",
    "# notice, we could spell out all the cards again,\n",
    "# but this is more DRY\n",
    "\n",
    "lucky_card = {\"suit\":\"Club\", \"rank\":\"8\"}\n",
    "unlucky_card = {\"suit\":\"Club\", \"rank\":\"3\"}\n",
    "\n",
    "assert  are_any_cards_same_rank_as_searched_card(all_cards, lucky_card) == True\n",
    "assert  are_any_cards_same_rank_as_searched_card(all_cards, unlucky_card) == True\n",
    "assert  are_any_cards_same_rank_as_searched_card([h7,c2,d7], lucky_card) == False\n",
    "print(\"all tests passed\")"
   ]
  },
  {
   "cell_type": "markdown",
   "metadata": {},
   "source": [
    "# b: For Loop"
   ]
  },
  {
   "cell_type": "code",
   "execution_count": null,
   "metadata": {},
   "outputs": [],
   "source": [
    "def are_any_cards_same_rank_as_searched_card(cards, searched_card):\n",
    "    same_rank_card_count = 0 \n",
    "    for card in cards:\n",
    "        if card['rank'] == searched_card['rank']:\n",
    "            same_rank_card_count +=1 \n",
    "    return same_rank_card_count"
   ]
  },
  {
   "cell_type": "code",
   "execution_count": null,
   "metadata": {},
   "outputs": [],
   "source": [
    "cards = [{\"suit\":\"Heart\", \"rank\":\"7\"}, \n",
    "         {\"suit\":\"Heart\", \"rank\":\"8\"},\n",
    "         {\"suit\":\"Club\", \"rank\":\"Q\"}]\n",
    "lucky_card = {\"suit\":\"Club\", \"rank\":\"8\"}\n",
    "unlucky_card = {\"suit\":\"Club\", \"rank\":\"2\"}\n",
    "\n",
    "print(are_any_cards_same_rank_as_searched_card(cards, lucky_card))"
   ]
  },
  {
   "cell_type": "code",
   "execution_count": null,
   "metadata": {},
   "outputs": [],
   "source": [
    "h7 = {\"suit\":\"Heart\", \"rank\":\"7\"}\n",
    "h8 = {\"suit\":\"Heart\", \"rank\":\"8\"}\n",
    "cq = {\"suit\":\"Club\", \"rank\":\"Q\"}\n",
    "ca = {\"suit\":\"Club\", \"rank\":\"A\"}\n",
    "c2 = {\"suit\":\"Club\", \"rank\":\"2\"}\n",
    "d7 = {\"suit\":\"Diamond\", \"rank\":\"7\"}\n",
    "\n",
    "all_cards = [h7,h8,cq,ca,c2,d7] \n",
    "# notice, we could spell out all the cards again,\n",
    "# but this is more DRY\n",
    "\n",
    "lucky_card = {\"suit\":\"Club\", \"rank\":\"8\"}\n",
    "unlucky_card = {\"suit\":\"Club\", \"rank\":\"2\"} # MISSING } \n",
    "\n",
    "assert  are_any_cards_same_rank_as_searched_card(all_cards, lucky_card) == True\n",
    "assert  are_any_cards_same_rank_as_searched_card(all_cards, unlucky_card) == True # SAID FALSE\n",
    "assert  are_any_cards_same_rank_as_searched_card([h7,c2,d7], lucky_card) == False\n",
    "print(\"all tests passed\")"
   ]
  },
  {
   "cell_type": "markdown",
   "metadata": {},
   "source": [
    "# DECISION TIME!\n",
    "\n",
    "# In next tasks the choice is yours: do it with a List Comp or For Loop. Or both!"
   ]
  },
  {
   "cell_type": "markdown",
   "metadata": {},
   "source": [
    "# Task 7"
   ]
  },
  {
   "cell_type": "code",
   "execution_count": null,
   "metadata": {},
   "outputs": [],
   "source": [
    "# LIST COMP\n",
    "def does_list_have_that_many_of_this_item(a_list, how_many, what_item):\n",
    "#     print(a_list)\n",
    "    items_like_searched_one = [\n",
    "        \"AHA!\"  # this could be anything... item, True, 1\n",
    "        for item in a_list\n",
    "        if item == what_item\n",
    "    ]\n",
    "#     print(items_like_searched_one)\n",
    "\n",
    "    return len(items_like_searched_one) == how_many\n",
    "\n",
    "# WORK WITH LIST FIRST AND THEN UTILISE THE OUTPUT\n",
    "# LEN USED TO PRESENT LIST AS NUMBER\n",
    "# COMPARISON MADE TO HOW_MANY ANOTHER NUMBER == TRUE / FALSE"
   ]
  },
  {
   "cell_type": "code",
   "execution_count": null,
   "metadata": {},
   "outputs": [],
   "source": [
    "what_item = \"q\"\n",
    "list_of_searched_items = [\"a\",\"b\",\"q\",\"w\",\"q\",\"r\",\"r\",\"p\",\"e\",\"o\"]\n",
    "print(f\"list filtered to just searched item {what_item} in {list_of_searched_items}\")"
   ]
  },
  {
   "cell_type": "code",
   "execution_count": null,
   "metadata": {},
   "outputs": [],
   "source": [
    "print(does_list_have_that_many_of_this_item( [ \"d\",\"a\",\"a\",\"b\",\"c\"], 2, \"a\"))\n",
    "# print(does_list_have_that_many_of_this_item( [ \"d\",\"a\",\"a\",\"b\",\"c\"], 3, \"b\"))"
   ]
  },
  {
   "cell_type": "code",
   "execution_count": null,
   "metadata": {},
   "outputs": [],
   "source": [
    "# LOOP\n",
    "def does_list_have_that_many_of_this_item(a_list, how_many, what_item):\n",
    "    count_item = 0 \n",
    "    for item in a_list:\n",
    "        if item == what_item:\n",
    "            count_item  += 1\n",
    "    return count_item == how_many\n",
    "\n",
    "# SAME RETURN COMPARISON AS LIST COMP "
   ]
  },
  {
   "cell_type": "code",
   "execution_count": null,
   "metadata": {},
   "outputs": [],
   "source": [
    "# one test to get you started, write at least 2 more\n",
    "letters = [ \"d\",\"a\",\"a\",\"b\",\"c\", \"a\",\"a\", \"c\"]\n",
    "\n",
    "assert does_list_have_that_many_of_this_item(letters, 4, \"a\") == True\n",
    "assert does_list_have_that_many_of_this_item(letters, 3, \"a\") == False\n",
    "assert does_list_have_that_many_of_this_item(letters, 5, \"a\") == False\n",
    "assert does_list_have_that_many_of_this_item(letters, 0, \"a\") == False\n",
    "assert does_list_have_that_many_of_this_item(letters, 1, \"b\") == True\n",
    "assert does_list_have_that_many_of_this_item(letters, 1, \"d\") == True\n",
    "assert does_list_have_that_many_of_this_item(letters, 1, \"x\") == False\n",
    "assert does_list_have_that_many_of_this_item(letters, 0, \"x\") == True\n",
    "print(\"all tests passed\")"
   ]
  },
  {
   "cell_type": "markdown",
   "metadata": {},
   "source": [
    "# Task 8 (Difficult)\n",
    "\n",
    "Represent a list as a dictionary. Use list comp or for loop, or any other method that you can think of. (but NOT `from collections import Counter`)\n",
    "\n",
    "If you're working on this more than 10 minutes, have a look at the ANSWER below the tests (hidden in Blue fields)\n",
    "\n",
    "Also below are some hints:"
   ]
  },
  {
   "cell_type": "code",
   "execution_count": null,
   "metadata": {},
   "outputs": [],
   "source": [
    "# hint: to get unique set of values in a list, turn it into a set and back into list\n",
    "# you might loose order but that won't fail the tests\n",
    "\n",
    "fruits1 = [\"apple\",\"plum\", \"apple\", \"pear\", \"plum\",\"plum\"]\n",
    "unique_fruits = list(set(fruits1))\n",
    "print(unique_fruits)\n",
    "\n",
    "# SET() DOES NOT HOLD A COUNT OF HOW MAY TIMES AN ITEM APPEARED IN LIST ORIGINALLY"
   ]
  },
  {
   "cell_type": "code",
   "execution_count": null,
   "metadata": {},
   "outputs": [],
   "source": [
    "fruits1 = [\"apple\",\"plum\", \"apple\", \"pear\", \"plum\",\"plum\"]\n",
    "print(fruits1.count(\"apple\"))\n",
    "print(fruits1.count(\"kiwi\"))"
   ]
  },
  {
   "cell_type": "code",
   "execution_count": null,
   "metadata": {},
   "outputs": [],
   "source": [
    "# hint: inventory_of_fruits.get(\"apple\", 0) will return the VAL in KEY of \"apple\"\n",
    "# But 0 OR \"None\" if there is NO VAL in that key\n",
    "\n",
    "inventory_of_fruits = {'apple': 3, 'pear': 2,'peach':4}\n",
    "print(inventory_of_fruits.get(\"apple\", 0))\n",
    "print(inventory_of_fruits.get(\"kiwi\", None))\n",
    "print(inventory_of_fruits.get(\"peach\", None))\n",
    "\n",
    "# just using ['kiwi'] notation will get an ERROR if the key does not exist\n",
    "print(inventory_of_fruits[\"kiwi\"]) "
   ]
  },
  {
   "cell_type": "code",
   "execution_count": null,
   "metadata": {},
   "outputs": [],
   "source": [
    "# ok, now it's time for a solution:\n",
    "# first try to solve this 'on paper' and consider different options of doing it.\n",
    "# LOOP IS THE SIMPLER METHOD TO SOLVE THIS TASK \n",
    "\n",
    "# LOOP\n",
    "def how_many_of_each_item_are_there(a_list):\n",
    "    # DICT DON'T NEED .APPEDND TO ADD TO IT. JUST OVERRIDE THE OLDER VALUE\n",
    "    counts = {}\n",
    "    for item in a_list:\n",
    "        previous_value_or_zero = counts.get(item, 0)\n",
    "        # ADD ORIGINAL ITEM +1 TO COUNTS {}\n",
    "        counts[item] = previous_value_or_zero + 1\n",
    "    return counts\n",
    "\n",
    "# OR\n",
    "def how_many_of_each_item_are_there(a_list):\n",
    "    counts = {}\n",
    "    for item in a_list:\n",
    "        # EACH TIME LOOP FINDS AN ITEM +1 TO THE PREVIOUS \n",
    "        counts[item] = counts.get(item, 0) + 1\n",
    "    return counts\n",
    "    "
   ]
  },
  {
   "cell_type": "code",
   "execution_count": null,
   "metadata": {},
   "outputs": [],
   "source": [
    "fruits1 = [\"apple\",\"plum\", \"apple\", \"pear\", \"plum\",\"plum\"]\n",
    "print(how_many_of_each_item_are_there(fruits1))"
   ]
  },
  {
   "cell_type": "code",
   "execution_count": null,
   "metadata": {},
   "outputs": [],
   "source": [
    "fruits1 = [\"apple\",\"plum\", \"apple\", \"pear\", \"plum\",\"plum\"]\n",
    "assert how_many_of_each_item_are_there(fruits1) == {\"apple\": 2, \"pear\": 1, \"plum\": 3}\n",
    "\n",
    "fruits2 = [\"apple\",\"pear\", \"plum\"]\n",
    "assert how_many_of_each_item_are_there(fruits2) == {\"apple\": 1, \"pear\": 1, \"plum\": 1}\n",
    "\n",
    "\n",
    "fruits2 = [\"apple\",\"pear\", \"kiwi\", \"kiwi\", \"kiwi\", \"kiwi\"]\n",
    "assert how_many_of_each_item_are_there(fruits2) == {\"apple\": 1, \"pear\": 1, \"kiwi\": 4 }\n",
    "\n",
    "assert how_many_of_each_item_are_there([]) ==  {}\n",
    "print(\"all tests passed\")\n",
    "\n",
    "# note: remember that order in dicts does not matter, and that's ok\n",
    "# so this will pass: assert {'a':2, 'b': 1} == {'b': 1, 'a':2} "
   ]
  },
  {
   "cell_type": "markdown",
   "metadata": {},
   "source": [
    "### CLICK HERE TO SEE THE THE ANSWER. DO NOT SPEND MORE THAN 15 MINS ON THIS TASK\n",
    "\n",
    "\n",
    "\n",
    "\n",
    "<details><summary style='color:blue'>SHOW ANSWER: FOR LOOP ANSWER</summary>\n",
    "    \n",
    "    ### BEGIN SOLUTION\n",
    "    counts = {}\n",
    "    for item in a_list:\n",
    "        previous_value_or_zero = counts.get(item, 0)\n",
    "        counts[item] = previous_value_or_zero + 1\n",
    "    return counts\n",
    "    ### END SOLUTION\n",
    "    \n",
    "</details>\n",
    "\n",
    "\n",
    "<details><summary style='color:blue'>SHOW ANSWER: LIST COMPREHENSION ANSWER, SUPER TRICKY</summary>\n",
    "    \n",
    "    ### BEGIN SOLUTION\n",
    "    values = [\n",
    "        [item, a_list.count(item)]\n",
    "        for item in set(a_list)\n",
    "    ]\n",
    "\n",
    "    return dict(values)\n",
    "    ### END SOLUTION\n",
    "    \n",
    "</details>"
   ]
  },
  {
   "cell_type": "markdown",
   "metadata": {},
   "source": [
    "# Task 9"
   ]
  },
  {
   "cell_type": "code",
   "execution_count": null,
   "metadata": {},
   "outputs": [],
   "source": [
    "# LIST COMP\n",
    "def return_just_city_names(city_list):\n",
    "    just_names = [\n",
    "        city['name'] \n",
    "        for city in city_list\n",
    "    ]\n",
    "#     print(just_names)\n",
    "    return just_names"
   ]
  },
  {
   "cell_type": "code",
   "execution_count": null,
   "metadata": {},
   "outputs": [],
   "source": [
    "cities1 = [  {\"name\":\"Edinburgh\",  \"population\":500000, \"area\":264},\n",
    "                 {\"name\":\"Glasgow\",  \"population\":600000, \"area\":175},\n",
    "                 {\"name\":\"Inverness\", \"population\":50000, \"area\":20}]\n",
    "\n",
    "print(return_just_city_names(cities1))"
   ]
  },
  {
   "cell_type": "code",
   "execution_count": null,
   "metadata": {},
   "outputs": [],
   "source": [
    "#LOOP\n",
    "def return_just_city_names(city_list):\n",
    "    just_names = []\n",
    "    for city in city_list:\n",
    "        just_names.append(city['name'])\n",
    "    return just_names"
   ]
  },
  {
   "cell_type": "code",
   "execution_count": null,
   "metadata": {},
   "outputs": [],
   "source": [
    "cities1 = [  {\"name\":\"Edinburgh\",  \"population\":500000, \"area\":264},\n",
    "                 {\"name\":\"Glasgow\",  \"population\":600000, \"area\":175},\n",
    "                 {\"name\":\"Inverness\", \"population\":50000, \"area\":20}]\n",
    "\n",
    "print(return_just_city_names(cities1))"
   ]
  },
  {
   "cell_type": "code",
   "execution_count": null,
   "metadata": {},
   "outputs": [],
   "source": [
    "cities1 = [  {\"name\":\"Edinburgh\",  \"population\":500000, \"area\":264},\n",
    "                 {\"name\":\"Glasgow\",  \"population\":600000, \"area\":175},\n",
    "                 {\"name\":\"Inverness\", \"population\":50000, \"area\":20}]\n",
    "cities2 = [  {\"name\":\"Edinburgh\",  \"population\":500000, \"area\":264},\n",
    "            {\"name\":\"Edinburgh\",  \"population\":500000, \"area\":264}]  \n",
    "\n",
    "assert return_just_city_names(cities1) == [\"Edinburgh\" ,\"Glasgow\", \"Inverness\"]\n",
    "assert return_just_city_names(cities2) ==  [\"Edinburgh\" ,\"Edinburgh\"]\n",
    "assert return_just_city_names([]) == []\n",
    "print(\"all tests passed\")"
   ]
  },
  {
   "cell_type": "markdown",
   "metadata": {},
   "source": [
    "# Task 10"
   ]
  },
  {
   "cell_type": "code",
   "execution_count": null,
   "metadata": {},
   "outputs": [],
   "source": [
    "# try to use use for loop to solve this\n",
    "# note: density is population divided by area\n",
    "# spoiler: densities are Edinburgh: 1893', Glasgow: 3428, Inverness 2500"
   ]
  },
  {
   "cell_type": "code",
   "execution_count": null,
   "metadata": {},
   "outputs": [],
   "source": [
    " def return_city_names_with_density_lower_than(city_list, max_density):\n",
    "        just_names = [\n",
    "            city['name']\n",
    "            for city in city_list\n",
    "            if city['population'] / city['area'] < max_density\n",
    "        ]\n",
    "        # DEBUGGING\n",
    "        print(f\"cities with density below {max_density} are {just_names}\") \n",
    "        return just_names\n"
   ]
  },
  {
   "cell_type": "code",
   "execution_count": null,
   "metadata": {},
   "outputs": [],
   "source": [
    "cities1 = [\n",
    "    {\"name\":\"Edinburgh\",  \"population\":500000, \"area\":264},\n",
    "    {\"name\":\"Glasgow\",  \"population\":600000, \"area\":175},\n",
    "    {\"name\":\"Inverness\", \"population\":50000, \"area\":20}\n",
    "]\n",
    "\n",
    "print(return_city_names_with_density_lower_than(cities1, 3400) )"
   ]
  },
  {
   "cell_type": "code",
   "execution_count": null,
   "metadata": {},
   "outputs": [],
   "source": [
    "def return_city_names_with_density_lower_than(city_list, max_density):\n",
    "    just_names = []\n",
    "    for city in city_list:\n",
    "        density_of_this_city = city['population'] / city['area']\n",
    "        # DEBUGGING\n",
    "        print(f\"density of {city['name']} is {density_of_this_city}\") \n",
    "        if density_of_this_city < max_density:\n",
    "            just_names.append(city['name'])\n",
    "    # DEBUGGING      \n",
    "    print(f\"cities with density below {max_density} are {just_names}\") \n",
    "    return just_names"
   ]
  },
  {
   "cell_type": "code",
   "execution_count": null,
   "metadata": {},
   "outputs": [],
   "source": [
    "cities1 = [  \n",
    "    {\"name\":\"Edinburgh\",  \"population\":500000, \"area\":264},\n",
    "    {\"name\":\"Glasgow\",  \"population\":600000, \"area\":175},\n",
    "    {\"name\":\"Inverness\", \"population\":50000, \"area\":20}\n",
    "]\n",
    "\n",
    "print(return_city_names_with_density_lower_than(cities1, 3400) )"
   ]
  },
  {
   "cell_type": "code",
   "execution_count": null,
   "metadata": {},
   "outputs": [],
   "source": [
    "cities1 = [  \n",
    "    {\"name\":\"Edinburgh\",  \"population\":500000, \"area\":264},\n",
    "    {\"name\":\"Glasgow\",  \"population\":600000, \"area\":175},\n",
    "    {\"name\":\"Inverness\", \"population\":50000, \"area\":20}\n",
    "]\n",
    "\n",
    "assert return_city_names_with_density_lower_than(cities1, 3500) == [\"Edinburgh\" ,\"Glasgow\", \"Inverness\"]\n",
    "assert return_city_names_with_density_lower_than(cities1, 3400) ==  [\"Edinburgh\" , \"Inverness\"]\n",
    "assert return_city_names_with_density_lower_than(cities1, 2000) ==  [\"Edinburgh\" ]\n",
    "assert return_city_names_with_density_lower_than(cities1, 1000) ==  [ ]\n",
    "assert return_city_names_with_density_lower_than([], 3500) == []\n",
    "print(\"all tests passed\")"
   ]
  },
  {
   "cell_type": "markdown",
   "metadata": {},
   "source": [
    "# Task 11\n",
    "\n",
    "Look at tests to understand what you are meant to do."
   ]
  },
  {
   "cell_type": "code",
   "execution_count": null,
   "metadata": {},
   "outputs": [],
   "source": [
    "def city_into_sentence(city):\n",
    "    # CREATE VARIABLES OF TRAGETED INFO. TO FEED INTO STRING\n",
    "    print(city)\n",
    "    name = city['name']\n",
    "    pop = city['population']\n",
    "    area = city['area']\n",
    "    return f\"{name} has {pop} inhabitants on the area of {area} km2\"\n",
    "\n",
    "# LIST COMP TO FIND AND FILL VARS WITH VALUES\n",
    "def cities_as_sentences(city_list):\n",
    "    return [\n",
    "        # CALL THE STRINGY FUNC INSIDE THE LIST COMP\n",
    "        city_into_sentence(city)\n",
    "        for city in city_list\n",
    "    ]"
   ]
  },
  {
   "cell_type": "code",
   "execution_count": null,
   "metadata": {},
   "outputs": [],
   "source": [
    "cities1 = [  \n",
    "    {\"name\":\"Edinburgh\",  \"population\":500000, \"area\":264},\n",
    "    {\"name\":\"Glasgow\",  \"population\":600000, \"area\":175},\n",
    "    {\"name\":\"Inverness\", \"population\":50000, \"area\":20}\n",
    "]\n",
    "\n",
    "print(cities_as_sentences(cities1) )"
   ]
  },
  {
   "cell_type": "code",
   "execution_count": null,
   "metadata": {},
   "outputs": [],
   "source": [
    "# OR LOOP\n",
    "def cities_as_sentence(city_list):\n",
    "    for city in city_list:\n",
    "        return city_into_sentence(city)"
   ]
  },
  {
   "cell_type": "code",
   "execution_count": null,
   "metadata": {},
   "outputs": [],
   "source": [
    "cities1 = [  \n",
    "    {\"name\":\"Edinburgh\",  \"population\":500000, \"area\":264},\n",
    "    {\"name\":\"Glasgow\",  \"population\":600000, \"area\":175},\n",
    "    {\"name\":\"Inverness\", \"population\":50000, \"area\":20}\n",
    "]\n",
    "\n",
    "print(cities_as_sentences(cities1) )"
   ]
  },
  {
   "cell_type": "code",
   "execution_count": null,
   "metadata": {},
   "outputs": [],
   "source": [
    "cities1 = [  {\"name\":\"Edinburgh\",  \"population\":500000, \"area\":264},\n",
    "                 {\"name\":\"Glasgow\",  \"population\":600000, \"area\":175},\n",
    "                 {\"name\":\"Inverness\", \"population\":50000, \"area\":20}]\n",
    "list_with_one_city = [{\"name\":\"Inverness\", \"population\":50000, \"area\":20}]\n",
    "assert cities_as_sentences(cities1) == [\"Edinburgh has 500000 inhabitants on the area of 264 km2\",\n",
    "                                        \"Glasgow has 600000 inhabitants on the area of 175 km2\",\n",
    "                                        \"Inverness has 50000 inhabitants on the area of 20 km2\"]\n",
    "assert cities_as_sentences(list_with_one_city) == [\"Inverness has 50000 inhabitants on the area of 20 km2\"]\n",
    "print(\"all tests passed\")"
   ]
  },
  {
   "cell_type": "markdown",
   "metadata": {},
   "source": [
    "# Task  12 - Opening hours table\n",
    "\n",
    "Turn inromation about opening hours of a shop into a string and print it. See example below, but feel free to change it. Use string manipulation and loops to produce the type of sign you could see on the door of a shop"
   ]
  },
  {
   "cell_type": "code",
   "execution_count": null,
   "metadata": {},
   "outputs": [],
   "source": [
    "opening_hours = [{'day':'Monday', 'open': 9, 'close':18},\n",
    "                {'day':'Tuesday', 'open': 12, 'close':18},\n",
    "                {'day':'Wednesday'},\n",
    "                {'day':'Thursday', 'open': 9, 'close':18},\n",
    "                {'day':'Friday', 'open': 9, 'close':21},\n",
    "                {'day':'Saturday', 'open': 12, 'close':18},\n",
    "                {'day':'Sunday', 'open': 12, 'close':18}]\n",
    "\n",
    "# what are you going to do with days when they are closed? \n",
    "# Remember you can always check for None with: if day_data.get('open') != None:"
   ]
  },
  {
   "cell_type": "code",
   "execution_count": null,
   "metadata": {},
   "outputs": [],
   "source": [
    "# hint:\n",
    "fruit = \"banana\"\n",
    "price = 62\n",
    "print(f\"___ price of {fruit:^15} is {price:>6}€ ___\")\n",
    "\n",
    "fruit = \"blackcurrant\"\n",
    "price = 230\n",
    "print(f\"___ price of {fruit:^15} is {price:>6}€ ___\")"
   ]
  },
  {
   "cell_type": "code",
   "execution_count": null,
   "metadata": {},
   "outputs": [],
   "source": [
    "def day_as_line_of_text(day_info):\n",
    "    day = day_info['day']\n",
    "    open = day_info.get('open', 0)\n",
    "    close = day_info.get('close', 0)\n",
    "    if open != 0 and close != 0:\n",
    "        return f\"**{day:^12}**{open:>4}-{close:<4}**\"\n",
    "    else:\n",
    "        return f\"**{day:^12}** CLOSED  **\"\n",
    "    "
   ]
  },
  {
   "cell_type": "code",
   "execution_count": null,
   "metadata": {},
   "outputs": [],
   "source": [
    "print(day_as_line_of_text(opening_hours[0]))"
   ]
  },
  {
   "cell_type": "code",
   "execution_count": null,
   "metadata": {},
   "outputs": [],
   "source": [
    "assert day_as_line_of_text(opening_hours[0]) == \"**   Monday   **   9-18  **\"\n",
    "assert day_as_line_of_text(opening_hours[5]) == \"**  Saturday  **  12-18  **\"\n",
    "assert day_as_line_of_text(opening_hours[2]) == \"** Wednesday  ** CLOSED  **\""
   ]
  },
  {
   "cell_type": "code",
   "execution_count": null,
   "metadata": {},
   "outputs": [],
   "source": [
    "def week_as_lines_of_text(week_info):\n",
    "    return [\n",
    "        day_as_line_of_text(day)\n",
    "        for day in week_info\n",
    "    ]"
   ]
  },
  {
   "cell_type": "code",
   "execution_count": null,
   "metadata": {},
   "outputs": [],
   "source": [
    "print(week_as_lines_of_text(opening_hours))\n",
    "# :O SUCCESSFUL, BUT UGLY!"
   ]
  },
  {
   "cell_type": "code",
   "execution_count": null,
   "metadata": {},
   "outputs": [],
   "source": [
    "import pprint as pp\n",
    "pp.pprint(week_as_lines_of_text(opening_hours))"
   ]
  },
  {
   "cell_type": "code",
   "execution_count": null,
   "metadata": {},
   "outputs": [],
   "source": [
    "assert week_as_lines_of_text(opening_hours) == [\"**   Monday   **   9-18  **\",\n",
    "                                                   \"**  Tuesday   **  12-18  **\",\n",
    "                                                   \"** Wednesday  ** CLOSED  **\",\n",
    "                                                   \"**  Thursday  **   9-18  **\",\n",
    "                                                   \"**   Friday   **   9-21  **\",\n",
    "                                                   \"**  Saturday  **  12-18  **\",\n",
    "                                                   \"**   Sunday   **  12-18  **\"]"
   ]
  },
  {
   "cell_type": "code",
   "execution_count": null,
   "metadata": {},
   "outputs": [],
   "source": [
    "# and if you ever wanted to make it look pretty as one big string, you could connect a list of \n",
    "# strings into one with \"some string\".join(\"[kiwi\",\"apple\",\"banana\"])\n",
    "\n",
    "print( \"SOMETHING\".join([\"kiwi\",\"apple\",\"banana\"]) )"
   ]
  },
  {
   "cell_type": "code",
   "execution_count": null,
   "metadata": {},
   "outputs": [],
   "source": [
    "print( \"\\n\".join([\"kiwi\",\"apple\",\"banana\"]) )\n",
    "# \\n means a new line "
   ]
  },
  {
   "cell_type": "code",
   "execution_count": null,
   "metadata": {},
   "outputs": [],
   "source": [
    "print(\"\\n\".join(week_as_lines_of_text(opening_hours)))"
   ]
  },
  {
   "cell_type": "code",
   "execution_count": null,
   "metadata": {},
   "outputs": [],
   "source": []
  }
 ],
 "metadata": {
  "kernelspec": {
   "display_name": "Python 3",
   "language": "python",
   "name": "python3"
  },
  "language_info": {
   "codemirror_mode": {
    "name": "ipython",
    "version": 3
   },
   "file_extension": ".py",
   "mimetype": "text/x-python",
   "name": "python",
   "nbconvert_exporter": "python",
   "pygments_lexer": "ipython3",
   "version": "3.8.8"
  }
 },
 "nbformat": 4,
 "nbformat_minor": 2
}
