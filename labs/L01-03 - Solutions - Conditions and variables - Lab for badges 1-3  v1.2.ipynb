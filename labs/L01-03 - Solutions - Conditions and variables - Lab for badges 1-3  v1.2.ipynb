{
 "cells": [
  {
   "cell_type": "code",
   "execution_count": null,
   "id": "7850c9e3",
   "metadata": {},
   "outputs": [],
   "source": [
    "# experimental: you can run this cell to see your code full-width\n",
    "from IPython.display import display, HTML\n",
    "display(HTML(\"<style>.container { width:100% !important; }</style>\"))"
   ]
  },
  {
   "cell_type": "markdown",
   "id": "401f2d8c",
   "metadata": {},
   "source": [
    "# Lab for badges 1-3 - in pairs: write code that solves given challanges\n",
    "\n",
    "In the future badges you will learn about functions and tests, which will do some of this work for you, but for today, try to solve below challanges as they are.\n",
    "\n",
    "Your task will always be to write some code in the `# TODO: do something here`. Feel free to change values in `inputs` to see if your code can handle multiple scenarios."
   ]
  },
  {
   "cell_type": "markdown",
   "id": "678d91b1",
   "metadata": {},
   "source": [
    "### Helpful keyaboard shortcuts:\n",
    "\n",
    "Shift + Enter (run cell and move to next one)\n",
    "\n",
    "double-click word (select word)\n",
    "\n",
    "tripple-click word (select line)\n",
    "\n",
    "Shift + move around with arrows (select many lines or text)\n",
    "\n",
    "ctrl/cmd + z (undo)\n",
    "\n",
    "ctrl/cmd + ? (comment out current line, or currently celected lines)\n",
    "\n",
    "ctro/cmd + [ or ] (move selected lines right, or left) "
   ]
  },
  {
   "cell_type": "markdown",
   "id": "64447ee1",
   "metadata": {},
   "source": [
    "### Task 0:  Starting example (done for you)"
   ]
  },
  {
   "cell_type": "code",
   "execution_count": null,
   "id": "88978fce",
   "metadata": {},
   "outputs": [],
   "source": [
    "# which number is larger?\n",
    "\n",
    "# inputs\n",
    "n1 = 3\n",
    "n2 = 7\n",
    "result = \"banana\"\n",
    "\n",
    "# TODO: usually you will have to \"do something here\", but it's already done this time\n",
    "if n1 > n2:\n",
    "    result = n1\n",
    "else:\n",
    "    result = n2\n",
    "\n",
    "# result \n",
    "# eg. (for inputs 3 and 7, expect 7)\n",
    "print(result)\n",
    "\n",
    "# now that you see it working, change inputs, does it still work? \n",
    "# how about these: 7 and 8, or 9 and 9, or 0 and -8?"
   ]
  },
  {
   "cell_type": "markdown",
   "id": "6a38a1cf",
   "metadata": {},
   "source": [
    "### Task 1:  Largest out of 3"
   ]
  },
  {
   "cell_type": "code",
   "execution_count": null,
   "id": "2923154f",
   "metadata": {},
   "outputs": [],
   "source": [
    "# inputs\n",
    "n1 = 3\n",
    "n2 = 7\n",
    "n3 = 4\n",
    "\n",
    "if n1 >= n2 and n1 >= n3:\n",
    "    result = n1\n",
    "elif n2 >= n1 and n2 >= n3:\n",
    "    result = n2\n",
    "else:\n",
    "    result = n3\n",
    "    \n",
    "# OR with the 'current winner is' strategy\n",
    "\n",
    "result = n1\n",
    "if n2 >= result:\n",
    "    result = n2\n",
    "if n3 >= result:\n",
    "    result = n3\n",
    "\n",
    "\n",
    "# result \n",
    "# eg. for 3,7,4 expect 7\n",
    "print(result)\n",
    "\n",
    "# whern you change inputs, does it still work?"
   ]
  },
  {
   "cell_type": "markdown",
   "id": "619cb417",
   "metadata": {},
   "source": [
    "### Task 2: Are numbers in order?"
   ]
  },
  {
   "cell_type": "code",
   "execution_count": null,
   "id": "df6f13b3",
   "metadata": {},
   "outputs": [],
   "source": [
    "# inputs\n",
    "n1 = 3\n",
    "n2 = 7\n",
    "n3 = 4\n",
    "\n",
    "result = \"banana\"\n",
    "\n",
    "if n1 <= n2 and n2<= n3:\n",
    "    result = True\n",
    "else:\n",
    "    result = False\n",
    "\n",
    "# or 'assign result to variable' strategy\n",
    "\n",
    "result = ((n1 <= n2) and (n2<= n3))\n",
    "\n",
    "# which could also be simply:\n",
    "\n",
    "result = n1 <= n2 and n2<= n3\n",
    "\n",
    "\n",
    "# result \n",
    "# eg. for 3,7,4 expect False\n",
    "# eg. for 3,4,8 expect True\n",
    "# eg. for 3,4,4 expect True\n",
    "print(result)\n",
    "\n",
    "# whern you change inputs, does it still work?"
   ]
  },
  {
   "cell_type": "markdown",
   "id": "defdf059",
   "metadata": {},
   "source": [
    "### Task 3:  Largest out of 4"
   ]
  },
  {
   "cell_type": "code",
   "execution_count": null,
   "id": "8da8689a",
   "metadata": {},
   "outputs": [],
   "source": [
    "# inputs\n",
    "n1 = 3\n",
    "n2 = 7\n",
    "n3 = 4\n",
    "n4 = 9\n",
    "\n",
    "if n1 >= n2 and n1 >= n3 and n1 >= n4:\n",
    "    result = n1\n",
    "elif n2 >= n1 and n2 >= n3 and n2 >= n4:\n",
    "    result = n2\n",
    "elif n3 >= n1 and n3 >= n2 and n3 >= n4:\n",
    "    result = n3\n",
    "else:\n",
    "    result = n4\n",
    "    \n",
    "# OR with the 'current winner is' strategy\n",
    "\n",
    "result = n1\n",
    "if n2 > result:\n",
    "    result = n2\n",
    "if n3 > result:\n",
    "    result = n3\n",
    "if n4 > result:\n",
    "    result = n4\n",
    "\n",
    "\n",
    "# result \n",
    "# eg. for 3,7,4,9 expect 9\n",
    "# eg. for 10,7,4,9 expect 10\n",
    "print(result)\n",
    "\n",
    "# whern you change inputs, does it still work?\n",
    "\n",
    "# hint: you might have to be smart about this. \n",
    "# Is there another way than to write huge amount of > < >= <= and or ?\n",
    "# try to re-visit with your partner 'what does it mean that the number is largest'"
   ]
  },
  {
   "cell_type": "markdown",
   "id": "b2732823",
   "metadata": {},
   "source": [
    "### Task 4:  5 in order"
   ]
  },
  {
   "cell_type": "code",
   "execution_count": null,
   "id": "a77b45f7",
   "metadata": {},
   "outputs": [],
   "source": [
    "# inputs\n",
    "n1 = 3\n",
    "n2 = 7\n",
    "n3 = 4\n",
    "n4 = 9\n",
    "n5 = 10\n",
    "\n",
    "result = n1 <= n2 and n2 <= n3 and n3<= n4 and n4<= n5\n",
    "\n",
    "# result \n",
    "# eg. for 3,7,4,9,10 expect False\n",
    "# eg. for 3,7,8,9,10 expect True\n",
    "# eg. for 3,7,7,9,10 expect True\n",
    "print(result)\n",
    "\n",
    "# whern you change inputs, does it still work?"
   ]
  },
  {
   "cell_type": "markdown",
   "id": "49b9442f",
   "metadata": {},
   "source": [
    "### Task 5:  6 in order and different from each other"
   ]
  },
  {
   "cell_type": "code",
   "execution_count": null,
   "id": "40fcb014",
   "metadata": {},
   "outputs": [],
   "source": [
    "# inputs\n",
    "n1 = 3\n",
    "n2 = 7\n",
    "n3 = 4\n",
    "n4 = 9\n",
    "n5 = 9\n",
    "n6 = 10\n",
    "\n",
    "\n",
    "result = n1 < n2 and n2 < n3 and n3< n4 and n4< n5 and n5< n6\n",
    "\n",
    "\n",
    "\n",
    "# result \n",
    "# eg. for 3,7,4,9,10,11 expect False\n",
    "# eg. for 3,7,8,9,10,11 expect True\n",
    "# eg. for 3,7,7,9,10,11 expect False\n",
    "print(result)\n",
    "\n",
    "# whern you change inputs, does it still work?"
   ]
  },
  {
   "cell_type": "markdown",
   "id": "89e590e1",
   "metadata": {},
   "source": [
    "### Task 6 : are 4 numbers all different from each other"
   ]
  },
  {
   "cell_type": "code",
   "execution_count": null,
   "id": "1d9dcd41",
   "metadata": {},
   "outputs": [],
   "source": [
    "# inputs\n",
    "n1 = 10\n",
    "n2 = 7\n",
    "n3 = 7\n",
    "n4 = 9\n",
    "\n",
    "\n",
    "\n",
    "result = n1 != n2 and n1 != n3 and n1 != n4 and n2 != n3 and n2 != n4 and n3 != n4\n",
    "\n",
    "# result \n",
    "# eg. for 8,7,4,9 expect True\n",
    "# eg. for 8,1,2,9 expect True\n",
    "# eg. for 3,7,7,9 expect False\n",
    "print(result)\n",
    "\n",
    "# whern you change inputs, does it still work?"
   ]
  },
  {
   "cell_type": "markdown",
   "id": "143020c8",
   "metadata": {},
   "source": [
    "### Task 7:  Second Largest out of 3 (as if you ordered them, and took the second largest)"
   ]
  },
  {
   "cell_type": "code",
   "execution_count": null,
   "id": "b4059a86",
   "metadata": {},
   "outputs": [],
   "source": [
    "# inputs\n",
    "n1 = 3\n",
    "n2 = 7\n",
    "n3 = 6\n",
    "\n",
    "if n1 >= n2 and n1 >= n3: \n",
    "    #     largest = n1\n",
    "    if n2>= n3:\n",
    "        result = n2\n",
    "    else:\n",
    "        result = n3\n",
    "elif n2 >= n1 and n2 >= n3: \n",
    "    #     largest = n2\n",
    "    if n1>= n3:\n",
    "        result = n1\n",
    "    else:\n",
    "         result = n3\n",
    "else:\n",
    "    #     largest = n3\n",
    "    if n1>= n2:\n",
    "        result = n1\n",
    "    else:\n",
    "        result = n2\n",
    "\n",
    "# result \n",
    "# eg. for 3,7,4 expect 4 (when ordered 3,4,7)\n",
    "# eg. for 7,7,4 expect 7 (when ordered 4,7,7)\n",
    "# eg. for 7,7,7 expect 7 (when ordered 7,7,7)\n",
    "print(result)\n",
    "# whern you change inputs, does it still work?"
   ]
  },
  {
   "cell_type": "markdown",
   "id": "4064b61b",
   "metadata": {},
   "source": [
    "### Task 8:  Second Largest out of 4 (as if you ordered them, and took the second largest)"
   ]
  },
  {
   "cell_type": "code",
   "execution_count": null,
   "id": "0e9edcaa",
   "metadata": {},
   "outputs": [],
   "source": [
    "# inputs\n",
    "n1 = 3\n",
    "n2 = 7\n",
    "n3 = 4\n",
    "n4 = 4\n",
    "\n",
    "if n1 >= n2 and n1 >= n3 and n1 >= n4: \n",
    "    #     largest = n1\n",
    "    if n2>= n3 and n2 >= n4:\n",
    "        result = n2\n",
    "    elif n3>= n2 and n3 >= n4:\n",
    "        result = n3\n",
    "    else:\n",
    "        result = n4\n",
    "elif n2 >= n1 and n2 >= n3 and n2 >= n4: \n",
    "    #     largest = n2\n",
    "    if n1>= n3 and n1 >= n4:\n",
    "        result = n1\n",
    "    elif n3>= n1 and n3 >= n4:\n",
    "        result = n3\n",
    "    else:\n",
    "        result = n4\n",
    "elif n3 >= n1 and n3 >= n2 and n3 >= n4: \n",
    "    #     largest = n3\n",
    "    if n1>= n2 and n1 >= n4:\n",
    "        result = n1\n",
    "    elif n2>= n1 and n2 >= n4:\n",
    "        result = n2\n",
    "    else:\n",
    "        result = n4\n",
    "elif n4 >= n1 and n4 >= n2 and n4 >= n3: \n",
    "    #     largest = n4\n",
    "    if n1>= n2 and n1 >= n3:\n",
    "        result = n1\n",
    "    elif n2>= n1 and n2 >= n3:\n",
    "        result = n2\n",
    "    else:\n",
    "        result = n3\n",
    "\n",
    "# result \n",
    "# eg. for 3,7,4,1 expect 4\n",
    "# eg. for 7,7,4,1 expect 7\n",
    "# eg. for 7,7,7,1 expect 7\n",
    "# eg. for 7,1,1,1 expect 1\n",
    "print(result)\n",
    "\n",
    "\n",
    "# whern you change inputs, does it still work?\n",
    "\n",
    "# note, this can be really hard, so if you're on it for longer than 10 minutes, \n",
    "# just move on to the next challange. We will learn a better way to do this next week."
   ]
  },
  {
   "cell_type": "markdown",
   "id": "9288b55f",
   "metadata": {},
   "source": [
    "### Task 9:  Implement a sentence"
   ]
  },
  {
   "cell_type": "code",
   "execution_count": null,
   "id": "a7972fd4",
   "metadata": {},
   "outputs": [],
   "source": [
    "# scenario: I go for walks only if it is not raining.\n",
    "# On weekends, I only go between 9 and 15 hour. But on week days I go between 7 and 21 hour.\n",
    "# Should I go for a walk? Make result True, or False\n",
    "\n",
    "# inputs\n",
    "rain = True\n",
    "day = \"Wednesday\"\n",
    "time = 10\n",
    "\n",
    "is_weekend = day == 'Saturday' or day == 'Sunday'\n",
    "\n",
    "if rain == False:\n",
    "    if is_weekend:\n",
    "        if time >=9 and time <= 15:\n",
    "            result = True\n",
    "        else: \n",
    "            result = False\n",
    "    else:\n",
    "        if time >=7 and time <= 21:\n",
    "            result = True\n",
    "        else: \n",
    "            result = False\n",
    "else:\n",
    "    result = False\n",
    "\n",
    "\n",
    "\n",
    "# result \n",
    "# eg. for True, Wedensday, 10, expect False\n",
    "# eg. for False, Wedensday, 10, expect True\n",
    "# eg. for False, Wedensday, 7, expect True\n",
    "# eg. for False, Saturday, 7, expect False\n",
    "\n",
    "print(result)\n",
    "\n",
    "\n",
    "# whern you change inputs, does it still work?"
   ]
  },
  {
   "cell_type": "markdown",
   "id": "1eaed19d",
   "metadata": {},
   "source": [
    "### Task 10:  Up to you"
   ]
  },
  {
   "cell_type": "code",
   "execution_count": null,
   "id": "6dbe9ac7",
   "metadata": {},
   "outputs": [],
   "source": [
    "# Write your own 'sentence' scenario with your partner, and code it."
   ]
  }
 ],
 "metadata": {
  "kernelspec": {
   "display_name": "Python 3 (ipykernel)",
   "language": "python",
   "name": "python3"
  },
  "language_info": {
   "codemirror_mode": {
    "name": "ipython",
    "version": 3
   },
   "file_extension": ".py",
   "mimetype": "text/x-python",
   "name": "python",
   "nbconvert_exporter": "python",
   "pygments_lexer": "ipython3",
   "version": "3.9.7"
  }
 },
 "nbformat": 4,
 "nbformat_minor": 5
}
