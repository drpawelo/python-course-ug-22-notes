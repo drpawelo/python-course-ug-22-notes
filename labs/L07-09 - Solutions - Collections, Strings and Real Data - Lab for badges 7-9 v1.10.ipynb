{
 "cells": [
  {
   "cell_type": "markdown",
   "id": "behind-terry",
   "metadata": {},
   "source": [
    "# Lab for badges 7-9\n",
    "\n",
    "This badge has two sections: \n",
    "\n",
    "1. Solve some simple tasks using list comprehensions\n",
    "2. Build a live 'bus tracker' using a bus data API https://pbs.twimg.com/media/Dape3PaXcAAyYCl.jpg"
   ]
  },
  {
   "cell_type": "code",
   "execution_count": 4,
   "id": "3ee0c885",
   "metadata": {},
   "outputs": [
    {
     "data": {
      "text/html": [
       "<style>.container { width:100% !important; }</style>"
      ],
      "text/plain": [
       "<IPython.core.display.HTML object>"
      ]
     },
     "metadata": {},
     "output_type": "display_data"
    }
   ],
   "source": [
    "# experimental: you can run this cell to see your code full-width\n",
    "from IPython.display import display, HTML\n",
    "display(HTML(\"<style>.container { width:100% !important; }</style>\"))"
   ]
  },
  {
   "cell_type": "markdown",
   "id": "designed-canvas",
   "metadata": {},
   "source": [
    "## Part 1: Small tasks"
   ]
  },
  {
   "cell_type": "code",
   "execution_count": 6,
   "id": "traditional-gather",
   "metadata": {},
   "outputs": [],
   "source": [
    "# given this data, try to answer below challanges. hint: use List comprehensions. \n",
    "# remember that often you you need to split the task into smaller chunks \n",
    "\n",
    "cities_uk = [{'Geo': {'AreaKm2': 1572,\n",
    "          'Coordinates': {'Latitude': 51.51, 'Longitude': -0.13}},\n",
    "          'Name': 'London',\n",
    "          'Population': 8908081,\n",
    "          'Year_Founded': 47},\n",
    "         {'Geo': {'AreaKm2': 267.77,\n",
    "                  'Coordinates': {'Latitude': 52.48, 'Longitude': -1.9}},\n",
    "          'Name': 'Birmingham',\n",
    "          'Population': 1137100,\n",
    "          'Year_Founded': 601},\n",
    "         {'Geo': {'AreaKm2': 551.7,\n",
    "                  'Coordinates': {'Latitude': 53.8, 'Longitude': -1.55}},\n",
    "          'Name': 'Leeds',\n",
    "          'Population': 789194,\n",
    "          'Year_Founded': 1893},\n",
    "         {'Geo': {'AreaKm2': 3298,\n",
    "                  'Coordinates': {'Latitude': 55.86, 'Longitude': -4.25}},\n",
    "          'Name': 'Glasgow',\n",
    "          'Population': 635640,\n",
    "          'Year_Founded': 1454},\n",
    "         {'Geo': {'AreaKm2': 142.06,\n",
    "                  'Coordinates': {'Latitude': 53.38, 'Longitude': -1.47}},\n",
    "          'Name': 'Sheffield',\n",
    "          'Population': 577800,\n",
    "          'Year_Founded': 701},\n",
    "         {'Geo': {'AreaKm2': 110,\n",
    "                  'Coordinates': {'Latitude': 51.45, 'Longitude': -2.58}},\n",
    "          'Name': 'Bristol',\n",
    "          'Population': 567111,\n",
    "          'Year_Founded': 1155},\n",
    "         {'Geo': {'AreaKm2': 115.6,\n",
    "                  'Coordinates': {'Latitude': 53.47, 'Longitude': -2.23}},\n",
    "          'Name': 'Manchester',\n",
    "          'Population': 547627,\n",
    "          'Year_Founded': 1301},\n",
    "         {'Geo': {'AreaKm2': 111.84,\n",
    "                  'Coordinates': {'Latitude': 53.41, 'Longitude': -2.99}},\n",
    "          'Name': 'Liverpool',\n",
    "          'Population': 513441,\n",
    "          'Year_Founded': 1207},\n",
    "         {'Geo': {'AreaKm2': 259,\n",
    "                  'Coordinates': {'Latitude': 55.95, 'Longitude': -3.2}},\n",
    "          'Name': 'Edinburgh',\n",
    "          'Population': 488050,\n",
    "          'Year_Founded': 601}]\n",
    "\n",
    "cities_scotland = [\n",
    "         {'Geo': {'AreaKm2': 3298,\n",
    "                  'Coordinates': {'Latitude': 55.86, 'Longitude': -4.25}},\n",
    "          'Name': 'Glasgow',\n",
    "          'Population': 635640,\n",
    "          'Year_Founded': 1454},\n",
    "         {'Geo': {'AreaKm2': 259,\n",
    "                  'Coordinates': {'Latitude': 55.95, 'Longitude': -3.2}},\n",
    "          'Name': 'Edinburgh',\n",
    "          'Population': 488050,\n",
    "          'Year_Founded': 601}]"
   ]
  },
  {
   "cell_type": "code",
   "execution_count": 10,
   "id": "afd3626c",
   "metadata": {},
   "outputs": [
    {
     "data": {
      "text/plain": [
       "[{'Geo': {'AreaKm2': 3298,\n",
       "   'Coordinates': {'Latitude': 55.86, 'Longitude': -4.25}},\n",
       "  'Name': 'Glasgow',\n",
       "  'Population': 635640,\n",
       "  'Year_Founded': 1454},\n",
       " {'Geo': {'AreaKm2': 259,\n",
       "   'Coordinates': {'Latitude': 55.95, 'Longitude': -3.2}},\n",
       "  'Name': 'Edinburgh',\n",
       "  'Population': 488050,\n",
       "  'Year_Founded': 601}]"
      ]
     },
     "execution_count": 10,
     "metadata": {},
     "output_type": "execute_result"
    }
   ],
   "source": [
    "cities_scotland"
   ]
  },
  {
   "cell_type": "code",
   "execution_count": 28,
   "id": "8733ec57",
   "metadata": {},
   "outputs": [
    {
     "data": {
      "text/plain": [
       "{'Geo': {'AreaKm2': 3298,\n",
       "  'Coordinates': {'Latitude': 55.86, 'Longitude': -4.25}},\n",
       " 'Name': 'Glasgow',\n",
       " 'Population': 635640,\n",
       " 'Year_Founded': 1454}"
      ]
     },
     "execution_count": 28,
     "metadata": {},
     "output_type": "execute_result"
    }
   ],
   "source": [
    "city = cities_scotland[0]\n",
    "city['Geo']['Coordinates']['Latitude']"
   ]
  },
  {
   "cell_type": "code",
   "execution_count": 34,
   "id": "b8a74c6a",
   "metadata": {},
   "outputs": [
    {
     "data": {
      "text/plain": [
       "9"
      ]
     },
     "execution_count": 34,
     "metadata": {},
     "output_type": "execute_result"
    }
   ],
   "source": [
    "numbers = [3,4,5,6]\n",
    "len(cities_uk)"
   ]
  },
  {
   "cell_type": "markdown",
   "id": "reported-september",
   "metadata": {},
   "source": [
    "### Task 1:"
   ]
  },
  {
   "cell_type": "code",
   "execution_count": 38,
   "id": "violent-group",
   "metadata": {},
   "outputs": [
    {
     "name": "stdout",
     "output_type": "stream",
     "text": [
      "9\n",
      "2\n"
     ]
    }
   ],
   "source": [
    "def number_of_cities(some_cities):\n",
    "    return len(some_cities)\n",
    "\n",
    "print(number_of_cities(cities_uk)) # see it work\n",
    "print(number_of_cities(cities_scotland)) # see it work"
   ]
  },
  {
   "cell_type": "code",
   "execution_count": 39,
   "id": "aboriginal-devices",
   "metadata": {},
   "outputs": [
    {
     "name": "stdout",
     "output_type": "stream",
     "text": [
      "tests passed\n"
     ]
    }
   ],
   "source": [
    "assert number_of_cities(cities_scotland) == 2\n",
    "assert number_of_cities(cities_uk) == 9\n",
    "print(\"tests passed\")"
   ]
  },
  {
   "cell_type": "code",
   "execution_count": 52,
   "id": "running-local",
   "metadata": {},
   "outputs": [
    {
     "name": "stdout",
     "output_type": "stream",
     "text": [
      "['London', 'Leeds', 'Liverpool']\n"
     ]
    }
   ],
   "source": [
    "def cities_starting_with_letter(some_cities, first_letter):\n",
    "    return [\n",
    "        city['Name']\n",
    "        for city in some_cities\n",
    "        if city['Name'][0] == first_letter\n",
    "    ]\n",
    "\n",
    "print(cities_starting_with_letter(cities_uk, \"L\")) # see it work"
   ]
  },
  {
   "cell_type": "code",
   "execution_count": 54,
   "id": "hourly-server",
   "metadata": {},
   "outputs": [
    {
     "name": "stdout",
     "output_type": "stream",
     "text": [
      "tests passed\n"
     ]
    }
   ],
   "source": [
    "assert cities_starting_with_letter(cities_uk, \"L\") == ['London', 'Leeds', 'Liverpool']\n",
    "assert cities_starting_with_letter(cities_uk, \"B\") == ['Birmingham', 'Bristol']\n",
    "assert cities_starting_with_letter(cities_scotland, \"E\") == ['Edinburgh']\n",
    "assert cities_starting_with_letter([], \"L\") == []\n",
    "print(\"tests passed\")"
   ]
  },
  {
   "cell_type": "code",
   "execution_count": 66,
   "id": "7d6697c7",
   "metadata": {},
   "outputs": [
    {
     "data": {
      "text/plain": [
       "3"
      ]
     },
     "execution_count": 66,
     "metadata": {},
     "output_type": "execute_result"
    }
   ],
   "source": [
    "len([3,4,5])"
   ]
  },
  {
   "cell_type": "code",
   "execution_count": 68,
   "id": "instrumental-suite",
   "metadata": {},
   "outputs": [
    {
     "name": "stdout",
     "output_type": "stream",
     "text": [
      "6\n"
     ]
    }
   ],
   "source": [
    "\n",
    "def number_of_cities_north_of(some_cities, latitude):  \n",
    "    northern_cities =  [\n",
    "        city['Name']\n",
    "        for city in some_cities\n",
    "        if city['Geo']['Coordinates']['Latitude'] > latitude\n",
    "    ]\n",
    "    return len(northern_cities)\n",
    "\n",
    "print(number_of_cities_north_of(cities_uk, 53.0)) # see it work"
   ]
  },
  {
   "cell_type": "code",
   "execution_count": 69,
   "id": "mathematical-function",
   "metadata": {},
   "outputs": [
    {
     "name": "stdout",
     "output_type": "stream",
     "text": [
      "tests passed\n"
     ]
    }
   ],
   "source": [
    "assert number_of_cities_north_of(cities_uk, 55.0) == 2\n",
    "assert number_of_cities_north_of(cities_uk, 53.0) == 6\n",
    "assert number_of_cities_north_of(cities_scotland, 55.0) == 2\n",
    "print(\"tests passed\")\n",
    "# for simplicity let's assume everythong north of Gretna Green is in Scotland(Latitude being larger than 55.00) ;)"
   ]
  },
  {
   "cell_type": "code",
   "execution_count": 79,
   "id": "d29d8816",
   "metadata": {},
   "outputs": [
    {
     "data": {
      "text/plain": [
       "22"
      ]
     },
     "execution_count": 79,
     "metadata": {},
     "output_type": "execute_result"
    }
   ],
   "source": [
    "# 3,7,8,4,10\n",
    "round(22.22222)"
   ]
  },
  {
   "cell_type": "code",
   "execution_count": 80,
   "id": "industrial-nightmare",
   "metadata": {},
   "outputs": [
    {
     "name": "stdout",
     "output_type": "stream",
     "text": [
      "22\n"
     ]
    }
   ],
   "source": [
    "def percent_of_cities_north_of(some_cities, latitude): \n",
    "    number_of_northern_cities = number_of_cities_north_of(some_cities, latitude)\n",
    "    number_of_all_cities = len(some_cities)\n",
    "    return round(number_of_northern_cities / number_of_all_cities * 100)\n",
    "\n",
    "# round the result before returning it\n",
    "print(percent_of_cities_north_of(cities_uk, 55.0)) # see it work"
   ]
  },
  {
   "cell_type": "code",
   "execution_count": 81,
   "id": "elect-template",
   "metadata": {},
   "outputs": [
    {
     "name": "stdout",
     "output_type": "stream",
     "text": [
      "tests passed\n"
     ]
    }
   ],
   "source": [
    "\n",
    "assert percent_of_cities_north_of(cities_uk, 55.0) == 22\n",
    "assert percent_of_cities_north_of(cities_uk, 53.0) == 67\n",
    "assert percent_of_cities_north_of(cities_scotland, 55.0) == 100\n",
    "print(\"tests passed\")"
   ]
  },
  {
   "cell_type": "code",
   "execution_count": 85,
   "id": "a83baac9",
   "metadata": {},
   "outputs": [
    {
     "data": {
      "text/plain": [
       "635640"
      ]
     },
     "execution_count": 85,
     "metadata": {},
     "output_type": "execute_result"
    }
   ],
   "source": [
    "cities_scotland[0]['Population']"
   ]
  },
  {
   "cell_type": "code",
   "execution_count": 93,
   "id": "disciplinary-enough",
   "metadata": {},
   "outputs": [
    {
     "name": "stdout",
     "output_type": "stream",
     "text": [
      "9\n"
     ]
    }
   ],
   "source": [
    "def number_of_large_cities(some_cities, minimum_population): \n",
    "    lerge_ones = [\n",
    "        city['Name']\n",
    "        for city in some_cities \n",
    "        if city['Population'] > minimum_population\n",
    "    ]\n",
    "    return len(lerge_ones)\n",
    "\n",
    "print(number_of_large_cities(cities_uk, 15000)) # see it work"
   ]
  },
  {
   "cell_type": "code",
   "execution_count": 94,
   "id": "golden-commodity",
   "metadata": {},
   "outputs": [
    {
     "name": "stdout",
     "output_type": "stream",
     "text": [
      "tests passed\n"
     ]
    }
   ],
   "source": [
    "assert number_of_large_cities(cities_uk, 1500000) == 1\n",
    "assert number_of_large_cities(cities_uk, 1000000) == 2\n",
    "assert number_of_large_cities(cities_uk, 500000) == 8\n",
    "assert number_of_large_cities(cities_scotland, 500000) == 1\n",
    "print(\"tests passed\")"
   ]
  },
  {
   "cell_type": "code",
   "execution_count": null,
   "id": "virgin-oregon",
   "metadata": {},
   "outputs": [],
   "source": []
  },
  {
   "cell_type": "markdown",
   "id": "7da25f4c",
   "metadata": {},
   "source": [
    "# ⛏ Edinburgh Lothian Busses Timetable\n",
    "\n",
    "Below is the API of Lothian Busses, Edinburgh's local bus company. We'd like you to try to understand that data, and then print it in a meaningful way.\n",
    "\n",
    "Some functions are given below which will give you access to a **list of dictionaries**. Each item in a list will be info abotu one bus services leaving soon from a particular busstop. We'll look at the busses going to Business School or University of Edinburgh from Leith (northen part of Edinburgh). \n",
    "\n",
    "Below you will see:\n",
    "\n",
    "- the structure of the data,\n",
    "- some examples\n",
    "- some task\n",
    "\n",
    "Use what you learned up until now to extract and style the bus timetable. Here is a photo of how bus timetable looks like when it is displayed on the digital display at the actual busstop: https://pbs.twimg.com/media/Dape3PaXcAAyYCl.jpg"
   ]
  },
  {
   "cell_type": "markdown",
   "id": "636eafb2",
   "metadata": {},
   "source": [
    "# Demo code to get you started:"
   ]
  },
  {
   "cell_type": "code",
   "execution_count": null,
   "id": "75660fa8",
   "metadata": {},
   "outputs": [],
   "source": [
    "import requests \n",
    "import pprint as pp \n",
    "from datetime import timedelta, date, datetime \n",
    "import pytz # timezones"
   ]
  },
  {
   "cell_type": "code",
   "execution_count": null,
   "id": "26899eca",
   "metadata": {},
   "outputs": [],
   "source": [
    "def get_buses_coming_soon( stop_id): \n",
    "    apiurl = f\"https://tfe-opendata.com/api/v1/live_bus_times/{stop_id}\" \n",
    "    response = requests.request(\"GET\", apiurl) \n",
    "    all_busses = response.json() \n",
    "    return all_busses"
   ]
  },
  {
   "cell_type": "markdown",
   "id": "73342e32",
   "metadata": {},
   "source": [
    "`get_buses_coming_soon` gets all routes from one bus stop. \n",
    "\n",
    "Result is a List of Dictionaries. Where each dictionary is one route (one bus number eg. 22). Route dictionary has just two keys. What are they?"
   ]
  },
  {
   "cell_type": "markdown",
   "id": "b3e2442c",
   "metadata": {},
   "source": [
    "Brace! this will print a lot of data!\n",
    "but have a look at the very beginning of it! What is it? List? Of What? List of Dictionaries?\n",
    "\n",
    "Read below for some hints"
   ]
  },
  {
   "cell_type": "code",
   "execution_count": null,
   "id": "intensive-greece",
   "metadata": {},
   "outputs": [],
   "source": [
    "# eg. 36232574 is an id of a bus stop in Leith (north of Edinburgh)\n",
    "elmrow_stop_id = 36232574\n",
    "elmrow_departures = get_buses_coming_soon( elmrow_stop_id )"
   ]
  },
  {
   "cell_type": "code",
   "execution_count": null,
   "id": "8c2cffc9",
   "metadata": {},
   "outputs": [],
   "source": [
    "pp.pprint(len(elmrow_departures))\n",
    "print()\n",
    "pp.pprint(elmrow_departures)"
   ]
  },
  {
   "cell_type": "markdown",
   "id": "7594bcb1",
   "metadata": {},
   "source": [
    "Basically the format is:\n",
    "\n",
    "**elmrow_departures** - a List with all the bus services that use it\n",
    "\n",
    "..each item in **elmrow_departures** - a Dictionary describing one service with following keys: **departures**, and **routeName**\n",
    "    \n",
    "....**routeName** is just the name of the bus service, eg. '22'\n",
    "        \n",
    "....**departures** is a List with Dictionaries, each representing info of one incomming bus. "
   ]
  },
  {
   "cell_type": "code",
   "execution_count": null,
   "id": "7844eeba",
   "metadata": {},
   "outputs": [],
   "source": [
    "# some examples:\n",
    "# one stop\n",
    "first_service = elmrow_departures[0]\n",
    "pp.pprint(first_service)"
   ]
  },
  {
   "cell_type": "code",
   "execution_count": null,
   "id": "d3575f79",
   "metadata": {},
   "outputs": [],
   "source": [
    "# first bus service's routeName\n",
    "first_service_name = elmrow_departures[0]['routeName'] \n",
    "print(first_service_name)"
   ]
  },
  {
   "cell_type": "code",
   "execution_count": null,
   "id": "24a59d09",
   "metadata": {},
   "outputs": [],
   "source": [
    "first_service_departures = elmrow_departures[0]['departures'] \n",
    "print(f\"First Route has number {first_service_name} and has {len(first_service_departures)} busses coming soon\")"
   ]
  },
  {
   "cell_type": "markdown",
   "id": "40d5dfa4",
   "metadata": {},
   "source": [
    "All departures for this stop (note that this api uses timezones, so we will have to also)\n",
    "instead of just datetime.now() we will use datetime.now(pytz.timezone('Europe/London'))"
   ]
  },
  {
   "cell_type": "code",
   "execution_count": null,
   "id": "e793c140",
   "metadata": {},
   "outputs": [],
   "source": [
    "print(\"next bus of the first route:\") \n",
    "pp.pprint(elmrow_departures[0]['departures'][0])"
   ]
  },
  {
   "cell_type": "code",
   "execution_count": null,
   "id": "theoretical-silicon",
   "metadata": {},
   "outputs": [],
   "source": [
    "# a quick refresh of data :) so they are still up to date\n",
    "# run this code any time you want to get most up to date times\n",
    "elmrow_departures = get_buses_coming_soon( elmrow_stop_id )"
   ]
  },
  {
   "cell_type": "code",
   "execution_count": null,
   "id": "c50cc1e0",
   "metadata": {},
   "outputs": [],
   "source": [
    "departure_time_from_api = elmrow_departures[0]['departures'][0]['departureTime']\n",
    "print(departure_time_from_api)"
   ]
  },
  {
   "cell_type": "markdown",
   "id": "6a5b6470",
   "metadata": {},
   "source": [
    "We can also show the time when the bus is due in a prettier way and try some of our newly-learned Date/Time manipulation!"
   ]
  },
  {
   "cell_type": "code",
   "execution_count": null,
   "id": "olympic-starter",
   "metadata": {},
   "outputs": [],
   "source": [
    "# here's a step-by-step process of taking a complex date format into something simpler:\n",
    "\n",
    "bus_time_object = datetime.fromisoformat(departure_time_from_api) \n",
    "print(bus_time_object)\n",
    "\n",
    "bus_time_str = bus_time_object.strftime(\"%H:%M of day %D\") \n",
    "print(bus_time_str)\n",
    "# other datetime format can be found online, eg https://www.geeksforgeeks.org/python-datetime-strptime-function/"
   ]
  },
  {
   "cell_type": "code",
   "execution_count": null,
   "id": "tribal-design",
   "metadata": {},
   "outputs": [],
   "source": [
    "def date_into_human_form(time_from_api):\n",
    "    bus_time_object = datetime.fromisoformat(time_from_api) \n",
    "    bus_time_str = bus_time_object.strftime(\"%H:%M\") \n",
    "    return bus_time_str\n",
    "\n",
    "print(date_into_human_form(departure_time_from_api))\n",
    "print(date_into_human_form('2022-11-18T21:48:09+01:00'))\n",
    "print(date_into_human_form('2022-11-21T12:47:09+01:00'))"
   ]
  },
  {
   "cell_type": "code",
   "execution_count": 109,
   "id": "1587f903",
   "metadata": {},
   "outputs": [
    {
     "name": "stdout",
     "output_type": "stream",
     "text": [
      "2022-10-22 18:58:03+01:00 from api\n",
      "2022-10-22 17:51:55.353894 utc\n",
      "2022-10-22 18:51:55.353894+01:00 local\n",
      "0:06:07.646106\n",
      "6.0\n"
     ]
    }
   ],
   "source": [
    "# let's try to calculate in how many minutes is the next bus arriving\n",
    "# this code is quite messy, but notice how we're using prints to find our way\n",
    "# in a minute we'll clean it up\n",
    "\n",
    "# first refresh your data:\n",
    "elmrow_departures = get_buses_coming_soon( elmrow_stop_id )\n",
    "\n",
    "# then do the work:\n",
    "departure_time_from_api = elmrow_departures[0]['departures'][0]['departureTime']\n",
    "\n",
    "bus_time_object = datetime.fromisoformat(departure_time_from_api)  - timedelta(hours=1, minutes=0) \n",
    "# btw. this is a nasty hack which we need to use, because timezone on the API is wrong :(\n",
    "print(bus_time_object, \"from api\")\n",
    "\n",
    "utc_time_now = datetime.utcnow()\n",
    "print(utc_time_now, \"utc\")\n",
    "\n",
    "local_timezone = pytz.timezone(\"Europe/London\")\n",
    "now_local = utc_time_now.astimezone(local_timezone)\n",
    "print(now_local, \"local\")\n",
    "\n",
    "\n",
    "time_till =   bus_time_object - now_local \n",
    "print(time_till)\n",
    "minutes = time_till.total_seconds() // 60\n",
    "print(minutes)\n",
    "\n",
    "# once you know what this code does, it would be nice to wrap it into a function\n",
    "# and to remove all prints form the definition of the function, to avoid 'littering'\n",
    "\n",
    "# give it a shot if you'd like, otherwise, we'll do it just below (keep reading)"
   ]
  },
  {
   "cell_type": "code",
   "execution_count": null,
   "id": "bab35399",
   "metadata": {},
   "outputs": [],
   "source": [
    "# this is same as above, but 'cleaner' and as a function\n",
    "def date_into_minutes_from_now(time_from_api):\n",
    "    bus_time_object = datetime.fromisoformat(time_from_api)  - timedelta(hours=1, minutes=0)\n",
    "    local_timezone = pytz.timezone(\"Europe/London\")\n",
    "    now_local = utc_time_now.astimezone(local_timezone)\n",
    "    time_till =   bus_time_object - now_local \n",
    "    minutes = time_till.total_seconds() // 60\n",
    "    return minutes\n",
    "\n",
    "# once you know what this function does, I recommend removing all prints form the definition\n",
    "# of the function, to avoid 'littering'"
   ]
  },
  {
   "cell_type": "code",
   "execution_count": null,
   "id": "attempted-geometry",
   "metadata": {},
   "outputs": [],
   "source": [
    "# elmrow_departures = get_buses_coming_soon( elmrow_stop_id )\n",
    "departure_time_from_api = elmrow_departures[0]['departures'][0]['departureTime']\n",
    "\n",
    "print(\"next bus is in minutes:\", date_into_minutes_from_now(departure_time_from_api))"
   ]
  },
  {
   "cell_type": "code",
   "execution_count": null,
   "id": "d3702339",
   "metadata": {},
   "outputs": [],
   "source": [
    "# this is how you could represent next departure as a string, in a sentence format\n",
    "\n",
    "service_name = elmrow_departures[0]['routeName']\n",
    "pretty_time = date_into_human_form(elmrow_departures[0]['departures'][0]['departureTime'])\n",
    "in_minutes = date_into_minutes_from_now(elmrow_departures[0]['departures'][0]['departureTime'])\n",
    "\n",
    "print(f\"Next bus number {service_name} is at {pretty_time:*^13} (in {in_minutes:2.0f} minutes)\")\n",
    "\n",
    "# in a minute we will use a function to make it 'cleaner'"
   ]
  },
  {
   "cell_type": "code",
   "execution_count": null,
   "id": "26aae564",
   "metadata": {},
   "outputs": [],
   "source": [
    "# this is same as above, but represented as a string\n",
    "def next_first_departure(some_departures):\n",
    "    service_name = some_departures[0]['routeName']\n",
    "    pretty_time = date_into_human_form(some_departures[0]['departures'][0]['departureTime'])\n",
    "    in_minutes = date_into_minutes_from_now(some_departures[0]['departures'][0]['departureTime'])\n",
    "    \n",
    "    return f\"Next bus number {service_name} is at {pretty_time:*^13} (in {in_minutes:2.0f} minutes)\"\n",
    "\n",
    "# in a minute we will use a function to make it 'cleaner'\n",
    "print(next_first_departure(elmrow_departures))"
   ]
  },
  {
   "cell_type": "code",
   "execution_count": null,
   "id": "d2e9879f",
   "metadata": {},
   "outputs": [],
   "source": [
    "# do you see how above function takes all departures? and then picks out the first one with [0]\n",
    "# what if the function took just one departure, and you could be more flexible about what you show\n",
    "\n",
    "# this is same as above, but takes ONE departure\n",
    "def next_first_departure(one_departures):\n",
    "    service_name = one_departures['routeName']\n",
    "    pretty_time = date_into_human_form(one_departures['departures'][0]['departureTime'])\n",
    "    in_minutes = date_into_minutes_from_now(one_departures['departures'][0]['departureTime'])\n",
    "    \n",
    "    return f\"Next bus number {service_name} is at {pretty_time:*^13} (in {in_minutes:2.0f} minutes)\"\n",
    "\n",
    "# in a minute we will use a function to make it 'cleaner'\n",
    "print(next_first_departure(elmrow_departures[0]))\n",
    "print(next_first_departure(elmrow_departures[1]))\n",
    "print(next_first_departure(elmrow_departures[2]))\n",
    "print(next_first_departure(elmrow_departures[3]))"
   ]
  },
  {
   "cell_type": "markdown",
   "id": "joined-diversity",
   "metadata": {},
   "source": [
    "### Let's present the data somehow:"
   ]
  },
  {
   "cell_type": "code",
   "execution_count": null,
   "id": "f16965e9",
   "metadata": {},
   "outputs": [],
   "source": [
    "# advanced, but fun, for those who like using functions:\n",
    "# you can try to split your data presentation into stages.\n",
    "# and btw. always return (not print) inside a function\n",
    "# while you could print from your functions, it's cleaner to return strings and print them outside \n",
    "\n",
    "def bus_service_report(one_service):\n",
    "    return f\"🚌 {one_service['routeName']:^11} has {len(one_service['departures']):2} buses incomming 💨\"\n",
    "\n",
    "pp.pprint( bus_service_report(elmrow_departures[0]) )\n",
    "pp.pprint( bus_service_report(elmrow_departures[1]) )"
   ]
  },
  {
   "cell_type": "markdown",
   "id": "e6b957c9",
   "metadata": {},
   "source": [
    "### Bonus task: \n",
    "\n",
    "How would you change above function ability to say when is the next bus? like \"🚌     25      has  4 buses incomming 💨 next one is 7 minutes\" ?"
   ]
  },
  {
   "cell_type": "code",
   "execution_count": null,
   "id": "c78927c4",
   "metadata": {},
   "outputs": [],
   "source": [
    "# and then you can use list-comprehensions to print all services\n",
    "def all_services_as_lines(allservices):\n",
    "    return [\n",
    "         bus_service_report(service)\n",
    "         for service in allservices   \n",
    "    ]\n",
    "\n",
    "pp.pprint( all_services_as_lines(elmrow_departures) )\n",
    "# notice that what's printed is still a list, because it has [ ] around it"
   ]
  },
  {
   "cell_type": "markdown",
   "id": "b67c77fa",
   "metadata": {},
   "source": [
    "bonus code: To connect a list of stings into one string, using some delimited/connector:\n",
    "\n",
    "`\"some_delimiter\".join(some_list)`\n",
    "\n",
    "eg.\n",
    "\n",
    "`\":)\".join([\"banana\",\"kiwi\",\"plum\"])`\n"
   ]
  },
  {
   "cell_type": "code",
   "execution_count": null,
   "id": "2cf1a650",
   "metadata": {},
   "outputs": [],
   "source": [
    "fruit = [\"banana\",\"kiwi\",\"plum\"]\n",
    "print(\" ⭐️ \".join(fruit))\n",
    "print(\"**\".join(fruit))"
   ]
  },
  {
   "cell_type": "code",
   "execution_count": null,
   "id": "e518fd4d",
   "metadata": {},
   "outputs": [],
   "source": [
    "# Applied to our previous data, so that it is not a list with [] but a pretty string\n",
    "print( \"\\n\".join(all_services_as_lines(elmrow_departures) ))\n",
    "# notice we are not using pp.pprint() because it will try to be 'too helpful'. try it and see the difference"
   ]
  },
  {
   "cell_type": "code",
   "execution_count": null,
   "id": "working-scotland",
   "metadata": {},
   "outputs": [],
   "source": [
    "# or as a beautiful function:\n",
    "\n",
    "def all_services_formatted(busses):\n",
    "    return \"\\n\".join(all_services_as_lines(busses))\n",
    "\n",
    "print(all_services_formatted(elmrow_departures))"
   ]
  },
  {
   "cell_type": "markdown",
   "id": "3d0caaf5",
   "metadata": {},
   "source": [
    "# If you still have time: Try to recreate ANYTHING SIMMILAR to the bus tracker in the picture: https://pbs.twimg.com/media/Dape3PaXcAAyYCl.jpg\n",
    "\n",
    "Do not worry about the details, Or making it exactly like this - just try to get something working and try to make it look like nice. Try to play with it, and try to use as many skills you learned during this badge as you can.\n",
    "\n",
    "\n",
    "\n",
    "We already wrote for you some the code to get the busses comming to Business School from Leith.\n",
    "You just need to format the results, so they look prettier :)\n",
    "this is the method to get the next busses. No need to change it.\n",
    "\n",
    "\n",
    "for example:\n",
    "\n",
    "```\n",
    "Next busses nr 17 are coming in 5,25,55 minutes\n",
    "Next busses nr 21 are coming in 15,45 minutes\n",
    "Next busses nr 44 are coming in 2,42 minutes\n",
    "```\n",
    "\n",
    "or even:\n",
    "\n",
    "```\n",
    "Services leaving from this busstop: 17,21,44\n",
    "```"
   ]
  },
  {
   "cell_type": "code",
   "execution_count": null,
   "id": "812ec99a",
   "metadata": {},
   "outputs": [],
   "source": []
  },
  {
   "cell_type": "code",
   "execution_count": null,
   "id": "a51e8197",
   "metadata": {},
   "outputs": [],
   "source": []
  },
  {
   "cell_type": "markdown",
   "id": "357d201f",
   "metadata": {},
   "source": [
    "### For later: if you'd like to know more about how Edinburgh bus service use their data you can read up on it here:\n",
    "\n",
    "Also this is the link to live api data (remember that pprint in your python code, and jsonviewer extension in your chrome will make it easier to see it in a clear way): https://tfe-opendata.com/api/v1/live_bus_times/36236563\n",
    "\n",
    "To make above JSON data look MUCH BETTER in your browser. Use this Chrome extension: https://chrome.google.com/webstore/detail/json-viewer/gbmdgpbipfallnflgajpaliibnhdgobh \n",
    "\n",
    "Also, here is the official API documentation: https://tfe-opendata.readme.io/docs/live-bus-times\n",
    "\n",
    "Picture: https://pbs.twimg.com/media/Dape3PaXcAAyYCl.jpg"
   ]
  },
  {
   "cell_type": "markdown",
   "id": "30f78a93",
   "metadata": {},
   "source": [
    "# example answer to the bus tracker:"
   ]
  },
  {
   "cell_type": "code",
   "execution_count": 3,
   "id": "0d67411b",
   "metadata": {},
   "outputs": [],
   "source": [
    "import requests \n",
    "import pprint as pp \n",
    "from datetime import timedelta, date, datetime \n",
    "import pytz # timezones"
   ]
  },
  {
   "cell_type": "code",
   "execution_count": 7,
   "id": "efd4b9dc",
   "metadata": {},
   "outputs": [],
   "source": [
    "def get_buses_coming_soon( stop_id): \n",
    "    apiurl = f\"https://tfe-opendata.com/api/v1/live_bus_times/{stop_id}\" \n",
    "    response = requests.request(\"GET\", apiurl) \n",
    "    all_busses = response.json() \n",
    "    return all_busses"
   ]
  },
  {
   "cell_type": "code",
   "execution_count": 67,
   "id": "d6a67dbe",
   "metadata": {},
   "outputs": [],
   "source": [
    "elmrow_stop_id = 36232574\n",
    "elmrow_departures = get_buses_coming_soon( elmrow_stop_id )"
   ]
  },
  {
   "cell_type": "code",
   "execution_count": 20,
   "id": "e1a54ac4",
   "metadata": {},
   "outputs": [
    {
     "data": {
      "text/plain": [
       "'11:37'"
      ]
     },
     "execution_count": 20,
     "metadata": {},
     "output_type": "execute_result"
    }
   ],
   "source": [
    "elmrow_departures[0]['departures'][0]['displayTime']"
   ]
  },
  {
   "cell_type": "code",
   "execution_count": 28,
   "id": "cb8823b2",
   "metadata": {},
   "outputs": [],
   "source": [
    "def date_into_minutes_from_now(time_from_api):\n",
    "    bus_time_object = datetime.fromisoformat(time_from_api)  - timedelta(hours=1, minutes=0)\n",
    "    utc_time_now = datetime.utcnow()\n",
    "    now_local = utc_time_now.astimezone(pytz.timezone(\"Europe/London\"))\n",
    "    time_till =   bus_time_object - now_local \n",
    "    minutes = time_till.total_seconds() // 60\n",
    "    return minutes"
   ]
  },
  {
   "cell_type": "code",
   "execution_count": 26,
   "id": "472f3820",
   "metadata": {},
   "outputs": [
    {
     "data": {
      "text/plain": [
       "datetime.datetime(2022, 10, 25, 11, 58, 3, tzinfo=datetime.timezone(datetime.timedelta(seconds=3600)))"
      ]
     },
     "execution_count": 26,
     "metadata": {},
     "output_type": "execute_result"
    }
   ],
   "source": [
    "datetime.fromisoformat('2022-10-25T11:58:03+01:00')"
   ]
  },
  {
   "cell_type": "code",
   "execution_count": 32,
   "id": "24609588",
   "metadata": {},
   "outputs": [
    {
     "name": "stdout",
     "output_type": "stream",
     "text": [
      "10.0\n",
      "2022-10-25T11:48:33+01:00\n",
      "1.0\n"
     ]
    }
   ],
   "source": [
    "print(date_into_minutes_from_now('2022-10-25T11:58:03+01:00')) # this is in the future\n",
    "first_bustime = elmrow_departures[0]['departures'][0]['departureTime']\n",
    "print(first_bustime)\n",
    "print(date_into_minutes_from_now(first_bustime))"
   ]
  },
  {
   "cell_type": "code",
   "execution_count": 34,
   "id": "bc8384f9",
   "metadata": {},
   "outputs": [],
   "source": [
    "def date_into_human_form(time_from_api):\n",
    "    bus_time_object = datetime.fromisoformat(time_from_api) \n",
    "    bus_time_str = bus_time_object.strftime(\"%H:%M\") \n",
    "    return bus_time_str"
   ]
  },
  {
   "cell_type": "code",
   "execution_count": 36,
   "id": "65abf0c0",
   "metadata": {},
   "outputs": [
    {
     "name": "stdout",
     "output_type": "stream",
     "text": [
      "11:48\n",
      "21:48\n",
      "12:47\n"
     ]
    }
   ],
   "source": [
    "first_bustime = elmrow_departures[0]['departures'][0]['departureTime']\n",
    "print(date_into_human_form(first_bustime))\n",
    "print(date_into_human_form('2022-11-18T21:48:09+01:00'))\n",
    "print(date_into_human_form('2022-11-21T12:47:09+01:00'))"
   ]
  },
  {
   "cell_type": "code",
   "execution_count": 49,
   "id": "b6967d85",
   "metadata": {},
   "outputs": [
    {
     "name": "stdout",
     "output_type": "stream",
     "text": [
      "Next bus number 25 is at ****12:11**** (in -1 minutes)\n",
      "Next bus number 11 is at ****12:13**** (in  1 minutes)\n",
      "Next bus number 16 is at ****12:16**** (in  4 minutes)\n"
     ]
    }
   ],
   "source": [
    "def next_first_departure(one_service):\n",
    "    service_name = one_service['routeName']\n",
    "    first_departure = one_service['departures'][0]\n",
    "    time_text = date_into_human_form(first_departure['departureTime'])\n",
    "    in_minutes = date_into_minutes_from_now(first_departure['departureTime'])\n",
    "    \n",
    "    return f\"Next bus number {service_name} is at {time_text:*^13} (in {in_minutes:2.0f} minutes)\"\n",
    "\n",
    "print(next_first_departure(elmrow_departures[0]))\n",
    "print(next_first_departure(elmrow_departures[1]))\n",
    "print(next_first_departure(elmrow_departures[2]))\n"
   ]
  },
  {
   "cell_type": "code",
   "execution_count": 87,
   "id": "d20d7119",
   "metadata": {},
   "outputs": [
    {
     "data": {
      "text/plain": [
       "[-33.0, -25.0, -16.0, -2.0]"
      ]
     },
     "execution_count": 87,
     "metadata": {},
     "output_type": "execute_result"
    }
   ],
   "source": [
    "# let's return minutes as string, for easier printing\n",
    "def minutes_till_next_busses(one_service):\n",
    "    all_departures = one_service['departures']\n",
    "    just_minutes = [\n",
    "        date_into_minutes_from_now(departure['departureTime'])\n",
    "        for departure in all_departures\n",
    "    ]\n",
    "    \n",
    "    return just_minutes \n",
    "\n",
    "minutes_till_next_busses(elmrow_departures[0])"
   ]
  },
  {
   "cell_type": "code",
   "execution_count": 88,
   "id": "93a60e66",
   "metadata": {},
   "outputs": [
    {
     "name": "stdout",
     "output_type": "stream",
     "text": [
      " -9\n",
      " -1\n",
      "  1\n",
      "  6\n"
     ]
    }
   ],
   "source": [
    "minutes = [' -9', ' -1', '  1', '  6']\n",
    "print(\"\\n\".join(minutes))"
   ]
  },
  {
   "cell_type": "code",
   "execution_count": 68,
   "id": "b2e70a8f",
   "metadata": {},
   "outputs": [
    {
     "name": "stdout",
     "output_type": "stream",
     "text": [
      "Service  25 in  -1,  11,  17,  27 minutes\n",
      "Service  16 in  -1,   6,  18,  29 minutes\n"
     ]
    }
   ],
   "source": [
    "# let's show something like:\n",
    "# Service 13 in 4,14,24 minutes\n",
    "def service_into_nice_format(one_service):\n",
    "    service_name = one_service['routeName']\n",
    "    # here I round and align minutes so each takes 3 spaces, like \"  9\", \" 12\", \" 23\"\n",
    "    departures_minutes_pretty = [\n",
    "        f\"{minute:3.0f}\"\n",
    "        for minute in minutes_till_next_busses(one_service)\n",
    "    ]\n",
    "    #     here I join list of strings into one long string \"  9, 12, 23\"\n",
    "    departures_minutes_pretty_joined = \", \".join(departures_minutes_pretty)\n",
    "    #     here I join and layout them all\n",
    "    return f\"Service {service_name:>3} in {departures_minutes_pretty_joined:<15} minutes\"\n",
    "\n",
    "print(service_into_nice_format(elmrow_departures[0]))\n",
    "print(service_into_nice_format(elmrow_departures[1]))"
   ]
  },
  {
   "cell_type": "code",
   "execution_count": 71,
   "id": "0ac77fe7",
   "metadata": {},
   "outputs": [
    {
     "name": "stdout",
     "output_type": "stream",
     "text": [
      "Service  25 in  -4,   8,  14,  24 minutes\n",
      "Service  16 in  -4,   4,  15,  27 minutes\n",
      "Service  11 in  -3,  12,  20,  44 minutes\n",
      "Service  10 in  -2,  14,  35,  55 minutes\n"
     ]
    }
   ],
   "source": [
    "# like this I can bundle together list of strings into one.\n",
    "def all_serices_into_nice_format(all_services):\n",
    "    #     get description for each sercice. This will give you a list of strings\n",
    "    service_infos = [\n",
    "        service_into_nice_format(service)\n",
    "        for service in all_services\n",
    "    ]\n",
    "    #     bundle them together into one str\n",
    "    return \"\\n\".join(service_infos)\n",
    "\n",
    "print(all_serices_into_nice_format(elmrow_departures))"
   ]
  },
  {
   "cell_type": "code",
   "execution_count": 85,
   "id": "ccb8eff9",
   "metadata": {},
   "outputs": [
    {
     "name": "stdout",
     "output_type": "stream",
     "text": [
      "***Elm Row*********************************11:32**\n",
      "*  Service  16 in   1,   9,  19,  33 minutes     *\n",
      "*  Service  25 in   2,   7,  18,  30 minutes     *\n",
      "*  Service  11 in   3,  16,  38,  54 minutes     *\n",
      "*  Service  10 in  10,  29,  49,  69 minutes     *\n",
      "**************************************************\n"
     ]
    }
   ],
   "source": [
    "# and now for extra effect, wrap it all in *****\n",
    "def even_nicer_all_services(all_services):\n",
    "    #     we start with empty string, and will keep adding to it\n",
    "    bustracker_to_print = \"\"\n",
    "    \n",
    "    #     header like ***Elm Row*********************************19:25**\n",
    "    stop_name = \"Elm Row\"\n",
    "    now_local_time = datetime.utcnow().astimezone(pytz.timezone(\"Europe/London\"))\n",
    "    time_as_string = now_local_time.strftime(\"%H:%M\") \n",
    "    \n",
    "    bustracker_to_print += f\"***{stop_name:*<15}{time_as_string:*>30}**\\n\"\n",
    "    \n",
    "    # wrap each service into into stars and make them given width\n",
    "    service_infos = [\n",
    "        f\"*  {service_into_nice_format(service):<44}  *\"\n",
    "        for service in all_services\n",
    "    ]\n",
    "    \n",
    "    bustracker_to_print += \"\\n\".join(service_infos)\n",
    "    \n",
    "    # footer: empty string surrpounded by 50 *\n",
    "\n",
    "    bustracker_to_print += f\"\\n{'':*^50}\"\n",
    "    return bustracker_to_print\n",
    "\n",
    "elmrow_departures = get_buses_coming_soon( 36232574 )\n",
    "print(even_nicer_all_services(elmrow_departures))"
   ]
  },
  {
   "cell_type": "code",
   "execution_count": null,
   "id": "d9f47519",
   "metadata": {},
   "outputs": [],
   "source": []
  },
  {
   "cell_type": "code",
   "execution_count": null,
   "id": "ab5535e6",
   "metadata": {},
   "outputs": [],
   "source": []
  }
 ],
 "metadata": {
  "kernelspec": {
   "display_name": "Python 3 (ipykernel)",
   "language": "python",
   "name": "python3"
  },
  "language_info": {
   "codemirror_mode": {
    "name": "ipython",
    "version": 3
   },
   "file_extension": ".py",
   "mimetype": "text/x-python",
   "name": "python",
   "nbconvert_exporter": "python",
   "pygments_lexer": "ipython3",
   "version": "3.9.12"
  }
 },
 "nbformat": 4,
 "nbformat_minor": 5
}
